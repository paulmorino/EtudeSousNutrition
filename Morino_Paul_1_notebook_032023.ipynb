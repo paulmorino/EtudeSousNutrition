{
 "cells": [
  {
   "cell_type": "code",
   "execution_count": 1,
   "id": "b1b35f6b",
   "metadata": {},
   "outputs": [],
   "source": [
    "import pandas as pd\n",
    "import seaborn as sns\n",
    "import matplotlib.pyplot as plt\n",
    "import numpy as np"
   ]
  },
  {
   "cell_type": "markdown",
   "id": "ef4f48de",
   "metadata": {},
   "source": [
    "# Partie 1 : Calculs pour Marc"
   ]
  },
  {
   "cell_type": "markdown",
   "id": "96791322",
   "metadata": {},
   "source": [
    "## Calcul de la proportion de personnes en état de sous-nutrition en 2017"
   ]
  },
  {
   "cell_type": "markdown",
   "id": "50f452de",
   "metadata": {},
   "source": [
    "### Création du DataFrame population et nombre de personnes en sous-nutrition pour l'année 2017"
   ]
  },
  {
   "cell_type": "markdown",
   "id": "bbcd6cc2",
   "metadata": {},
   "source": [
    "Comme indiqué par Julien dans ses notes, les **valeurs de personnes en état de sous nutrition sont exprimées en million**, pour la moyenne des 3 années, tandis que **la population par pays est exprimée en millier**. \n",
    "\n",
    "Pour 2017, on peut donc conserver la moyenne des années 2016, 2017 et 2018, soit la **tranche 2016-2018**."
   ]
  },
  {
   "cell_type": "code",
   "execution_count": 2,
   "id": "6be86977",
   "metadata": {},
   "outputs": [],
   "source": [
    "# DataFrame du nombre de personnes en sous-nutrition par pays en 2017\n",
    "\n",
    "sousNutrition = pd.read_csv(\"sous_nutrition.csv\")\n",
    "\n",
    "sousNutrition2017 = sousNutrition[sousNutrition[\"Année\"] == \"2016-2018\"]"
   ]
  },
  {
   "cell_type": "code",
   "execution_count": 3,
   "id": "c9849fad",
   "metadata": {},
   "outputs": [],
   "source": [
    "# DataFrame de la population mondiale en 2017\n",
    "\n",
    "popMondiale = pd.read_csv(\"population.csv\")\n",
    "\n",
    "popMondialeParPays2017 = popMondiale[popMondiale[\"Année\"] == 2017]"
   ]
  },
  {
   "cell_type": "code",
   "execution_count": 4,
   "id": "da99fc4a",
   "metadata": {},
   "outputs": [
    {
     "data": {
      "text/html": [
       "<div>\n",
       "<style scoped>\n",
       "    .dataframe tbody tr th:only-of-type {\n",
       "        vertical-align: middle;\n",
       "    }\n",
       "\n",
       "    .dataframe tbody tr th {\n",
       "        vertical-align: top;\n",
       "    }\n",
       "\n",
       "    .dataframe thead th {\n",
       "        text-align: right;\n",
       "    }\n",
       "</style>\n",
       "<table border=\"1\" class=\"dataframe\">\n",
       "  <thead>\n",
       "    <tr style=\"text-align: right;\">\n",
       "      <th></th>\n",
       "      <th>Zone</th>\n",
       "      <th>Nombre personnes en sous-nutrition</th>\n",
       "      <th>Population</th>\n",
       "    </tr>\n",
       "  </thead>\n",
       "  <tbody>\n",
       "    <tr>\n",
       "      <th>0</th>\n",
       "      <td>Afghanistan</td>\n",
       "      <td>10500000</td>\n",
       "      <td>36296113</td>\n",
       "    </tr>\n",
       "    <tr>\n",
       "      <th>1</th>\n",
       "      <td>Afrique du Sud</td>\n",
       "      <td>3100000</td>\n",
       "      <td>57009756</td>\n",
       "    </tr>\n",
       "    <tr>\n",
       "      <th>2</th>\n",
       "      <td>Albanie</td>\n",
       "      <td>100000</td>\n",
       "      <td>2884169</td>\n",
       "    </tr>\n",
       "    <tr>\n",
       "      <th>3</th>\n",
       "      <td>Algérie</td>\n",
       "      <td>1300000</td>\n",
       "      <td>41389189</td>\n",
       "    </tr>\n",
       "    <tr>\n",
       "      <th>4</th>\n",
       "      <td>Allemagne</td>\n",
       "      <td>0</td>\n",
       "      <td>82658409</td>\n",
       "    </tr>\n",
       "    <tr>\n",
       "      <th>...</th>\n",
       "      <td>...</td>\n",
       "      <td>...</td>\n",
       "      <td>...</td>\n",
       "    </tr>\n",
       "    <tr>\n",
       "      <th>198</th>\n",
       "      <td>Venezuela (République bolivarienne du)</td>\n",
       "      <td>8000000</td>\n",
       "      <td>29402484</td>\n",
       "    </tr>\n",
       "    <tr>\n",
       "      <th>199</th>\n",
       "      <td>Viet Nam</td>\n",
       "      <td>6500000</td>\n",
       "      <td>94600648</td>\n",
       "    </tr>\n",
       "    <tr>\n",
       "      <th>200</th>\n",
       "      <td>Yémen</td>\n",
       "      <td>0</td>\n",
       "      <td>27834819</td>\n",
       "    </tr>\n",
       "    <tr>\n",
       "      <th>201</th>\n",
       "      <td>Zambie</td>\n",
       "      <td>0</td>\n",
       "      <td>16853599</td>\n",
       "    </tr>\n",
       "    <tr>\n",
       "      <th>202</th>\n",
       "      <td>Zimbabwe</td>\n",
       "      <td>0</td>\n",
       "      <td>14236595</td>\n",
       "    </tr>\n",
       "  </tbody>\n",
       "</table>\n",
       "<p>203 rows × 3 columns</p>\n",
       "</div>"
      ],
      "text/plain": [
       "                                       Zone  \\\n",
       "0                               Afghanistan   \n",
       "1                            Afrique du Sud   \n",
       "2                                   Albanie   \n",
       "3                                   Algérie   \n",
       "4                                 Allemagne   \n",
       "..                                      ...   \n",
       "198  Venezuela (République bolivarienne du)   \n",
       "199                                Viet Nam   \n",
       "200                                   Yémen   \n",
       "201                                  Zambie   \n",
       "202                                Zimbabwe   \n",
       "\n",
       "     Nombre personnes en sous-nutrition  Population  \n",
       "0                              10500000    36296113  \n",
       "1                               3100000    57009756  \n",
       "2                                100000     2884169  \n",
       "3                               1300000    41389189  \n",
       "4                                     0    82658409  \n",
       "..                                  ...         ...  \n",
       "198                             8000000    29402484  \n",
       "199                             6500000    94600648  \n",
       "200                                   0    27834819  \n",
       "201                                   0    16853599  \n",
       "202                                   0    14236595  \n",
       "\n",
       "[203 rows x 3 columns]"
      ]
     },
     "metadata": {},
     "output_type": "display_data"
    }
   ],
   "source": [
    "# Créer un DataFrame composé des populations et du nombre de personnes en sous-nutrition par pays en 2017\n",
    "\n",
    "dfPopEtSousNutri = pd.merge(sousNutrition2017, popMondialeParPays2017, on=\"Zone\", how=\"inner\")\n",
    "\n",
    "# Arrondir les valeurs <0.1 \n",
    "dfPopEtSousNutri.loc[dfPopEtSousNutri[\"Valeur_x\"] == \"<0.1\", \"Valeur_x\"] = 0\n",
    "\n",
    "# Conserver et renommer les colonnes utiles\n",
    "dfPopEtSousNutri = dfPopEtSousNutri[[\"Zone\", \"Valeur_x\", \"Valeur_y\"]]\n",
    "dfPopEtSousNutri = dfPopEtSousNutri.rename(columns={\"Valeur_x\": \"Nombre personnes en sous-nutrition\", \\\n",
    "                                                    \"Valeur_y\": \"Population\"})\n",
    "\n",
    "# Traiter comme des valeur numériques\n",
    "dfPopEtSousNutri[\"Nombre personnes en sous-nutrition\"] = \\\n",
    "pd.to_numeric(dfPopEtSousNutri[\"Nombre personnes en sous-nutrition\"]).fillna(0)\n",
    "\n",
    "\n",
    "# Mettre les deux colonnes dans la même unité (nombre de personnes)\n",
    "dfPopEtSousNutri[\"Nombre personnes en sous-nutrition\"] *= 1000000\n",
    "dfPopEtSousNutri[\"Population\"] *= 1000\n",
    "\n",
    "# Transformer le résultat en integer\n",
    "dfPopEtSousNutri[\"Nombre personnes en sous-nutrition\"] = dfPopEtSousNutri[\"Nombre personnes en sous-nutrition\"].astype(int)\n",
    "dfPopEtSousNutri[\"Population\"] = dfPopEtSousNutri[\"Population\"].astype(int)\n",
    "\n",
    "display(dfPopEtSousNutri)"
   ]
  },
  {
   "cell_type": "markdown",
   "id": "3e6f047a",
   "metadata": {},
   "source": [
    "### Calcul de la proportion de personnes en sous-nutrition en 2017"
   ]
  },
  {
   "cell_type": "markdown",
   "id": "54caa97a",
   "metadata": {},
   "source": [
    "#### Calcul du nombre de personnes en sous-nutrition en 2017"
   ]
  },
  {
   "cell_type": "code",
   "execution_count": 5,
   "id": "3121bb61",
   "metadata": {},
   "outputs": [
    {
     "name": "stdout",
     "output_type": "stream",
     "text": [
      "Nombre de personnes sous nourries dans le monde en 2017 = 535,700,000\n"
     ]
    }
   ],
   "source": [
    "nbPersSousNourrie2017 = dfPopEtSousNutri[\"Nombre personnes en sous-nutrition\"].sum()\n",
    "\n",
    "print(\"Nombre de personnes sous nourries dans le monde en 2017 = {:,.0f}\".format(nbPersSousNourrie2017))"
   ]
  },
  {
   "cell_type": "markdown",
   "id": "097b557c",
   "metadata": {},
   "source": [
    "#### Calcul de la population mondiale en 2017"
   ]
  },
  {
   "cell_type": "code",
   "execution_count": 6,
   "id": "faaed7ea",
   "metadata": {},
   "outputs": [
    {
     "name": "stdout",
     "output_type": "stream",
     "text": [
      "Population mondiale en 2017 = 7,543,798,769\n"
     ]
    }
   ],
   "source": [
    "popMondiale2017 = dfPopEtSousNutri[\"Population\"].sum()\n",
    "\n",
    "print(\"Population mondiale en 2017 = {:,.0f}\".format(popMondiale2017))"
   ]
  },
  {
   "cell_type": "markdown",
   "id": "91398539",
   "metadata": {},
   "source": [
    "#### Calcul de la proportion de personnes en sous-nutrition en 2017"
   ]
  },
  {
   "cell_type": "code",
   "execution_count": 7,
   "id": "d2b0768e",
   "metadata": {},
   "outputs": [
    {
     "name": "stdout",
     "output_type": "stream",
     "text": [
      "Proportion de la population mondiale en sous nutrition en 2017 = 7.10%\n"
     ]
    }
   ],
   "source": [
    "proportionSousNutrition2017 = nbPersSousNourrie2017 / popMondiale2017 * 100\n",
    "\n",
    "print(\"Proportion de la population mondiale en sous nutrition en 2017 = {:,.2f}%\".format(proportionSousNutrition2017))"
   ]
  },
  {
   "cell_type": "markdown",
   "id": "266731b6",
   "metadata": {},
   "source": [
    "### Représentation graphique de cette proportion"
   ]
  },
  {
   "cell_type": "code",
   "execution_count": 8,
   "id": "3d531617",
   "metadata": {},
   "outputs": [
    {
     "data": {
      "image/png": "[encoded data removed]",
      "text/plain": [
       "<Figure size 640x480 with 1 Axes>"
      ]
     },
     "metadata": {},
     "output_type": "display_data"
    }
   ],
   "source": [
    "# Create a pie chart\n",
    "labels = ['Personnes en Sous-Nutrition', '']\n",
    "sizes = [proportionSousNutrition2017, 100 - proportionSousNutrition2017]\n",
    "colors = ['#FF8C00', '#D3D3D3']\n",
    "\n",
    "fig, ax = plt.subplots()\n",
    "ax.pie(sizes, labels=labels, colors=colors, autopct='%1.1f%%')\n",
    "ax.axis('equal')\n",
    "ax.set_title('Proportion de personnes en état de sous-nutrition en 2017')\n",
    "\n",
    "plt.show()"
   ]
  },
  {
   "cell_type": "markdown",
   "id": "38b59772",
   "metadata": {},
   "source": [
    "***"
   ]
  },
  {
   "cell_type": "markdown",
   "id": "a35713aa",
   "metadata": {},
   "source": [
    "## Nombre théorique de personnes qui pourraient être nourries selon la disponibilité alimentaire mondiale"
   ]
  },
  {
   "cell_type": "markdown",
   "id": "499c549c",
   "metadata": {},
   "source": [
    "Calculer la disponibilité alimentaire en Kcal/jour/pers nous permet de savoir combien de personnes pourraient être théoriquement nourries par jour dans chaque pays. \n",
    "\n",
    "On partira pour se faire du principe **qu'un humain a besoin en moyenne de 2500 Kcal par jour**, ce chiffre pouvant en pratique varier selon la taille, l'âge, le poids, le sexe de chaque individu."
   ]
  },
  {
   "cell_type": "markdown",
   "id": "e57c162b",
   "metadata": {},
   "source": [
    "### Calcul de la disponibilité alimentaire pour chaque pays"
   ]
  },
  {
   "cell_type": "code",
   "execution_count": 9,
   "id": "cdc8b0e1",
   "metadata": {
    "scrolled": false
   },
   "outputs": [
    {
     "data": {
      "text/html": [
       "<div>\n",
       "<style scoped>\n",
       "    .dataframe tbody tr th:only-of-type {\n",
       "        vertical-align: middle;\n",
       "    }\n",
       "\n",
       "    .dataframe tbody tr th {\n",
       "        vertical-align: top;\n",
       "    }\n",
       "\n",
       "    .dataframe thead th {\n",
       "        text-align: right;\n",
       "    }\n",
       "</style>\n",
       "<table border=\"1\" class=\"dataframe\">\n",
       "  <thead>\n",
       "    <tr style=\"text-align: right;\">\n",
       "      <th></th>\n",
       "      <th>Disponibilité alimentaire (Kcal/personne/jour)</th>\n",
       "    </tr>\n",
       "    <tr>\n",
       "      <th>Zone</th>\n",
       "      <th></th>\n",
       "    </tr>\n",
       "  </thead>\n",
       "  <tbody>\n",
       "    <tr>\n",
       "      <th>Afghanistan</th>\n",
       "      <td>2087.0</td>\n",
       "    </tr>\n",
       "    <tr>\n",
       "      <th>Afrique du Sud</th>\n",
       "      <td>3020.0</td>\n",
       "    </tr>\n",
       "    <tr>\n",
       "      <th>Albanie</th>\n",
       "      <td>3188.0</td>\n",
       "    </tr>\n",
       "    <tr>\n",
       "      <th>Algérie</th>\n",
       "      <td>3293.0</td>\n",
       "    </tr>\n",
       "    <tr>\n",
       "      <th>Allemagne</th>\n",
       "      <td>3503.0</td>\n",
       "    </tr>\n",
       "    <tr>\n",
       "      <th>...</th>\n",
       "      <td>...</td>\n",
       "    </tr>\n",
       "    <tr>\n",
       "      <th>Émirats arabes unis</th>\n",
       "      <td>3275.0</td>\n",
       "    </tr>\n",
       "    <tr>\n",
       "      <th>Équateur</th>\n",
       "      <td>2346.0</td>\n",
       "    </tr>\n",
       "    <tr>\n",
       "      <th>États-Unis d'Amérique</th>\n",
       "      <td>3682.0</td>\n",
       "    </tr>\n",
       "    <tr>\n",
       "      <th>Éthiopie</th>\n",
       "      <td>2129.0</td>\n",
       "    </tr>\n",
       "    <tr>\n",
       "      <th>Îles Salomon</th>\n",
       "      <td>2383.0</td>\n",
       "    </tr>\n",
       "  </tbody>\n",
       "</table>\n",
       "<p>174 rows × 1 columns</p>\n",
       "</div>"
      ],
      "text/plain": [
       "                       Disponibilité alimentaire (Kcal/personne/jour)\n",
       "Zone                                                                 \n",
       "Afghanistan                                                    2087.0\n",
       "Afrique du Sud                                                 3020.0\n",
       "Albanie                                                        3188.0\n",
       "Algérie                                                        3293.0\n",
       "Allemagne                                                      3503.0\n",
       "...                                                               ...\n",
       "Émirats arabes unis                                            3275.0\n",
       "Équateur                                                       2346.0\n",
       "États-Unis d'Amérique                                          3682.0\n",
       "Éthiopie                                                       2129.0\n",
       "Îles Salomon                                                   2383.0\n",
       "\n",
       "[174 rows x 1 columns]"
      ]
     },
     "metadata": {},
     "output_type": "display_data"
    }
   ],
   "source": [
    "# Calcul de la disponibilité alimentaire pour chaque pays\n",
    "\n",
    "dispoAlimentaire = pd.read_csv(\"dispo_alimentaire.csv\")\n",
    "\n",
    "dispoParPays = dispoAlimentaire.groupby(\"Zone\").sum()\n",
    "\n",
    "dispoParPays = dispoParPays[[\"Disponibilité alimentaire (Kcal/personne/jour)\"]]\n",
    "\n",
    "display(dispoParPays)"
   ]
  },
  {
   "cell_type": "markdown",
   "id": "cb48fa10",
   "metadata": {},
   "source": [
    "### Calcul du nombre de personnes théoriquement nourries par pays"
   ]
  },
  {
   "cell_type": "code",
   "execution_count": 10,
   "id": "2236a8ed",
   "metadata": {
    "scrolled": false
   },
   "outputs": [
    {
     "data": {
      "text/html": [
       "<div>\n",
       "<style scoped>\n",
       "    .dataframe tbody tr th:only-of-type {\n",
       "        vertical-align: middle;\n",
       "    }\n",
       "\n",
       "    .dataframe tbody tr th {\n",
       "        vertical-align: top;\n",
       "    }\n",
       "\n",
       "    .dataframe thead th {\n",
       "        text-align: right;\n",
       "    }\n",
       "</style>\n",
       "<table border=\"1\" class=\"dataframe\">\n",
       "  <thead>\n",
       "    <tr style=\"text-align: right;\">\n",
       "      <th></th>\n",
       "      <th>Zone</th>\n",
       "      <th>Nombre de personne théoriquement nourries</th>\n",
       "    </tr>\n",
       "  </thead>\n",
       "  <tbody>\n",
       "    <tr>\n",
       "      <th>0</th>\n",
       "      <td>Afghanistan</td>\n",
       "      <td>0.8348</td>\n",
       "    </tr>\n",
       "    <tr>\n",
       "      <th>1</th>\n",
       "      <td>Afrique du Sud</td>\n",
       "      <td>1.2080</td>\n",
       "    </tr>\n",
       "    <tr>\n",
       "      <th>2</th>\n",
       "      <td>Albanie</td>\n",
       "      <td>1.2752</td>\n",
       "    </tr>\n",
       "    <tr>\n",
       "      <th>3</th>\n",
       "      <td>Algérie</td>\n",
       "      <td>1.3172</td>\n",
       "    </tr>\n",
       "    <tr>\n",
       "      <th>4</th>\n",
       "      <td>Allemagne</td>\n",
       "      <td>1.4012</td>\n",
       "    </tr>\n",
       "    <tr>\n",
       "      <th>...</th>\n",
       "      <td>...</td>\n",
       "      <td>...</td>\n",
       "    </tr>\n",
       "    <tr>\n",
       "      <th>169</th>\n",
       "      <td>Émirats arabes unis</td>\n",
       "      <td>1.3100</td>\n",
       "    </tr>\n",
       "    <tr>\n",
       "      <th>170</th>\n",
       "      <td>Équateur</td>\n",
       "      <td>0.9384</td>\n",
       "    </tr>\n",
       "    <tr>\n",
       "      <th>171</th>\n",
       "      <td>États-Unis d'Amérique</td>\n",
       "      <td>1.4728</td>\n",
       "    </tr>\n",
       "    <tr>\n",
       "      <th>172</th>\n",
       "      <td>Éthiopie</td>\n",
       "      <td>0.8516</td>\n",
       "    </tr>\n",
       "    <tr>\n",
       "      <th>173</th>\n",
       "      <td>Îles Salomon</td>\n",
       "      <td>0.9532</td>\n",
       "    </tr>\n",
       "  </tbody>\n",
       "</table>\n",
       "<p>174 rows × 2 columns</p>\n",
       "</div>"
      ],
      "text/plain": [
       "                      Zone  Nombre de personne théoriquement nourries\n",
       "0              Afghanistan                                     0.8348\n",
       "1           Afrique du Sud                                     1.2080\n",
       "2                  Albanie                                     1.2752\n",
       "3                  Algérie                                     1.3172\n",
       "4                Allemagne                                     1.4012\n",
       "..                     ...                                        ...\n",
       "169    Émirats arabes unis                                     1.3100\n",
       "170               Équateur                                     0.9384\n",
       "171  États-Unis d'Amérique                                     1.4728\n",
       "172               Éthiopie                                     0.8516\n",
       "173           Îles Salomon                                     0.9532\n",
       "\n",
       "[174 rows x 2 columns]"
      ]
     },
     "metadata": {},
     "output_type": "display_data"
    }
   ],
   "source": [
    "habNourrisParPays = pd.DataFrame({'Nombre de personne théoriquement nourries': \\\n",
    "                       dispoParPays['Disponibilité alimentaire (Kcal/personne/jour)']/2500},\n",
    "                     index = dispoParPays.index)\n",
    "\n",
    "habNourrisParPays = habNourrisParPays.reset_index()\n",
    "\n",
    "display(habNourrisParPays)"
   ]
  },
  {
   "cell_type": "markdown",
   "id": "863e80a0",
   "metadata": {},
   "source": [
    "### Pondération des résultats par la population de chaque pays"
   ]
  },
  {
   "cell_type": "code",
   "execution_count": 11,
   "id": "682f14b3",
   "metadata": {
    "scrolled": true
   },
   "outputs": [
    {
     "data": {
      "text/html": [
       "<div>\n",
       "<style scoped>\n",
       "    .dataframe tbody tr th:only-of-type {\n",
       "        vertical-align: middle;\n",
       "    }\n",
       "\n",
       "    .dataframe tbody tr th {\n",
       "        vertical-align: top;\n",
       "    }\n",
       "\n",
       "    .dataframe thead th {\n",
       "        text-align: right;\n",
       "    }\n",
       "</style>\n",
       "<table border=\"1\" class=\"dataframe\">\n",
       "  <thead>\n",
       "    <tr style=\"text-align: right;\">\n",
       "      <th></th>\n",
       "      <th>Zone</th>\n",
       "      <th>Nombre de personne théoriquement nourries</th>\n",
       "      <th>Population en millier d'habitants</th>\n",
       "    </tr>\n",
       "  </thead>\n",
       "  <tbody>\n",
       "    <tr>\n",
       "      <th>0</th>\n",
       "      <td>Afghanistan</td>\n",
       "      <td>0.8348</td>\n",
       "      <td>36296.113</td>\n",
       "    </tr>\n",
       "    <tr>\n",
       "      <th>1</th>\n",
       "      <td>Afrique du Sud</td>\n",
       "      <td>1.2080</td>\n",
       "      <td>57009.756</td>\n",
       "    </tr>\n",
       "    <tr>\n",
       "      <th>2</th>\n",
       "      <td>Albanie</td>\n",
       "      <td>1.2752</td>\n",
       "      <td>2884.169</td>\n",
       "    </tr>\n",
       "    <tr>\n",
       "      <th>3</th>\n",
       "      <td>Algérie</td>\n",
       "      <td>1.3172</td>\n",
       "      <td>41389.189</td>\n",
       "    </tr>\n",
       "    <tr>\n",
       "      <th>4</th>\n",
       "      <td>Allemagne</td>\n",
       "      <td>1.4012</td>\n",
       "      <td>82658.409</td>\n",
       "    </tr>\n",
       "    <tr>\n",
       "      <th>...</th>\n",
       "      <td>...</td>\n",
       "      <td>...</td>\n",
       "      <td>...</td>\n",
       "    </tr>\n",
       "    <tr>\n",
       "      <th>167</th>\n",
       "      <td>Émirats arabes unis</td>\n",
       "      <td>1.3100</td>\n",
       "      <td>9487.203</td>\n",
       "    </tr>\n",
       "    <tr>\n",
       "      <th>168</th>\n",
       "      <td>Équateur</td>\n",
       "      <td>0.9384</td>\n",
       "      <td>16785.361</td>\n",
       "    </tr>\n",
       "    <tr>\n",
       "      <th>169</th>\n",
       "      <td>États-Unis d'Amérique</td>\n",
       "      <td>1.4728</td>\n",
       "      <td>325084.756</td>\n",
       "    </tr>\n",
       "    <tr>\n",
       "      <th>170</th>\n",
       "      <td>Éthiopie</td>\n",
       "      <td>0.8516</td>\n",
       "      <td>106399.924</td>\n",
       "    </tr>\n",
       "    <tr>\n",
       "      <th>171</th>\n",
       "      <td>Îles Salomon</td>\n",
       "      <td>0.9532</td>\n",
       "      <td>636.039</td>\n",
       "    </tr>\n",
       "  </tbody>\n",
       "</table>\n",
       "<p>172 rows × 3 columns</p>\n",
       "</div>"
      ],
      "text/plain": [
       "                      Zone  Nombre de personne théoriquement nourries  \\\n",
       "0              Afghanistan                                     0.8348   \n",
       "1           Afrique du Sud                                     1.2080   \n",
       "2                  Albanie                                     1.2752   \n",
       "3                  Algérie                                     1.3172   \n",
       "4                Allemagne                                     1.4012   \n",
       "..                     ...                                        ...   \n",
       "167    Émirats arabes unis                                     1.3100   \n",
       "168               Équateur                                     0.9384   \n",
       "169  États-Unis d'Amérique                                     1.4728   \n",
       "170               Éthiopie                                     0.8516   \n",
       "171           Îles Salomon                                     0.9532   \n",
       "\n",
       "     Population en millier d'habitants  \n",
       "0                            36296.113  \n",
       "1                            57009.756  \n",
       "2                             2884.169  \n",
       "3                            41389.189  \n",
       "4                            82658.409  \n",
       "..                                 ...  \n",
       "167                           9487.203  \n",
       "168                          16785.361  \n",
       "169                         325084.756  \n",
       "170                         106399.924  \n",
       "171                            636.039  \n",
       "\n",
       "[172 rows x 3 columns]"
      ]
     },
     "metadata": {},
     "output_type": "display_data"
    }
   ],
   "source": [
    "# Ajouter la colonne population à notre dataframe. \n",
    "\n",
    "df_ponderation = pd.merge(habNourrisParPays, popMondialeParPays2017, on='Zone')\n",
    "\n",
    "# Garder les colonnes utiles \n",
    "\n",
    "df_ponderation = df_ponderation[['Zone', 'Nombre de personne théoriquement nourries', 'Valeur']]\n",
    "\n",
    "# Renommer la colonne Valeur en 'Population en millier d'habitants'\n",
    "\n",
    "df_ponderation = df_ponderation.rename(columns={'Valeur' : \"Population en millier d'habitants\"})\n",
    "\n",
    "display(df_ponderation)\n"
   ]
  },
  {
   "cell_type": "code",
   "execution_count": 12,
   "id": "9ddaffde",
   "metadata": {},
   "outputs": [
    {
     "data": {
      "text/html": [
       "<div>\n",
       "<style scoped>\n",
       "    .dataframe tbody tr th:only-of-type {\n",
       "        vertical-align: middle;\n",
       "    }\n",
       "\n",
       "    .dataframe tbody tr th {\n",
       "        vertical-align: top;\n",
       "    }\n",
       "\n",
       "    .dataframe thead th {\n",
       "        text-align: right;\n",
       "    }\n",
       "</style>\n",
       "<table border=\"1\" class=\"dataframe\">\n",
       "  <thead>\n",
       "    <tr style=\"text-align: right;\">\n",
       "      <th></th>\n",
       "      <th>Zone</th>\n",
       "      <th>Nombre de personne théoriquement nourries</th>\n",
       "      <th>Population en millier d'habitants</th>\n",
       "      <th>Coeficient de Pondération</th>\n",
       "    </tr>\n",
       "  </thead>\n",
       "  <tbody>\n",
       "    <tr>\n",
       "      <th>0</th>\n",
       "      <td>Afghanistan</td>\n",
       "      <td>0.8348</td>\n",
       "      <td>36296.113</td>\n",
       "      <td>0.004978</td>\n",
       "    </tr>\n",
       "    <tr>\n",
       "      <th>1</th>\n",
       "      <td>Afrique du Sud</td>\n",
       "      <td>1.2080</td>\n",
       "      <td>57009.756</td>\n",
       "      <td>0.007818</td>\n",
       "    </tr>\n",
       "    <tr>\n",
       "      <th>2</th>\n",
       "      <td>Albanie</td>\n",
       "      <td>1.2752</td>\n",
       "      <td>2884.169</td>\n",
       "      <td>0.000396</td>\n",
       "    </tr>\n",
       "    <tr>\n",
       "      <th>3</th>\n",
       "      <td>Algérie</td>\n",
       "      <td>1.3172</td>\n",
       "      <td>41389.189</td>\n",
       "      <td>0.005676</td>\n",
       "    </tr>\n",
       "    <tr>\n",
       "      <th>4</th>\n",
       "      <td>Allemagne</td>\n",
       "      <td>1.4012</td>\n",
       "      <td>82658.409</td>\n",
       "      <td>0.011336</td>\n",
       "    </tr>\n",
       "    <tr>\n",
       "      <th>...</th>\n",
       "      <td>...</td>\n",
       "      <td>...</td>\n",
       "      <td>...</td>\n",
       "      <td>...</td>\n",
       "    </tr>\n",
       "    <tr>\n",
       "      <th>167</th>\n",
       "      <td>Émirats arabes unis</td>\n",
       "      <td>1.3100</td>\n",
       "      <td>9487.203</td>\n",
       "      <td>0.001301</td>\n",
       "    </tr>\n",
       "    <tr>\n",
       "      <th>168</th>\n",
       "      <td>Équateur</td>\n",
       "      <td>0.9384</td>\n",
       "      <td>16785.361</td>\n",
       "      <td>0.002302</td>\n",
       "    </tr>\n",
       "    <tr>\n",
       "      <th>169</th>\n",
       "      <td>États-Unis d'Amérique</td>\n",
       "      <td>1.4728</td>\n",
       "      <td>325084.756</td>\n",
       "      <td>0.044582</td>\n",
       "    </tr>\n",
       "    <tr>\n",
       "      <th>170</th>\n",
       "      <td>Éthiopie</td>\n",
       "      <td>0.8516</td>\n",
       "      <td>106399.924</td>\n",
       "      <td>0.014592</td>\n",
       "    </tr>\n",
       "    <tr>\n",
       "      <th>171</th>\n",
       "      <td>Îles Salomon</td>\n",
       "      <td>0.9532</td>\n",
       "      <td>636.039</td>\n",
       "      <td>0.000087</td>\n",
       "    </tr>\n",
       "  </tbody>\n",
       "</table>\n",
       "<p>172 rows × 4 columns</p>\n",
       "</div>"
      ],
      "text/plain": [
       "                      Zone  Nombre de personne théoriquement nourries  \\\n",
       "0              Afghanistan                                     0.8348   \n",
       "1           Afrique du Sud                                     1.2080   \n",
       "2                  Albanie                                     1.2752   \n",
       "3                  Algérie                                     1.3172   \n",
       "4                Allemagne                                     1.4012   \n",
       "..                     ...                                        ...   \n",
       "167    Émirats arabes unis                                     1.3100   \n",
       "168               Équateur                                     0.9384   \n",
       "169  États-Unis d'Amérique                                     1.4728   \n",
       "170               Éthiopie                                     0.8516   \n",
       "171           Îles Salomon                                     0.9532   \n",
       "\n",
       "     Population en millier d'habitants  Coeficient de Pondération  \n",
       "0                            36296.113                   0.004978  \n",
       "1                            57009.756                   0.007818  \n",
       "2                             2884.169                   0.000396  \n",
       "3                            41389.189                   0.005676  \n",
       "4                            82658.409                   0.011336  \n",
       "..                                 ...                        ...  \n",
       "167                           9487.203                   0.001301  \n",
       "168                          16785.361                   0.002302  \n",
       "169                         325084.756                   0.044582  \n",
       "170                         106399.924                   0.014592  \n",
       "171                            636.039                   0.000087  \n",
       "\n",
       "[172 rows x 4 columns]"
      ]
     },
     "metadata": {},
     "output_type": "display_data"
    }
   ],
   "source": [
    "# Calculer le coeficient de pondération\n",
    "\n",
    "df_ponderation['Coeficient de Pondération'] = df_ponderation[\"Population en millier d'habitants\"] / df_ponderation[\"Population en millier d'habitants\"].sum()\n",
    "\n",
    "display(df_ponderation)"
   ]
  },
  {
   "cell_type": "markdown",
   "id": "97df121d",
   "metadata": {},
   "source": [
    "### Nombre de personnes qui pourraient être théoriquement nourries à l'échelle mondiale"
   ]
  },
  {
   "cell_type": "code",
   "execution_count": 13,
   "id": "ece1679b",
   "metadata": {},
   "outputs": [
    {
     "name": "stdout",
     "output_type": "stream",
     "text": [
      "On pourrait nourrir 1.1475 fois la population mondiale en 2017 (soit 114.75%)\n"
     ]
    }
   ],
   "source": [
    "# Utiliser la fonction 'average' de numpy pour faire la moyenne pondérée ('weight')\n",
    "\n",
    "values = df_ponderation['Nombre de personne théoriquement nourries']\n",
    "weights = df_ponderation['Coeficient de Pondération']\n",
    "\n",
    "moyennePonderee = np.average(values, weights = weights)\n",
    "\n",
    "print(\"On pourrait nourrir {:,.4f} fois la population mondiale en 2017 (soit {:,.2f}%)\"\\\n",
    "      .format(moyennePonderee, moyennePonderee*100))"
   ]
  },
  {
   "cell_type": "code",
   "execution_count": 14,
   "id": "6c265c09",
   "metadata": {},
   "outputs": [
    {
     "name": "stdout",
     "output_type": "stream",
     "text": [
      "Le nombre de personnes que l'on pourrait théoriquement nourrir à l'échelle mondiale en 2017 est : 8,656,651,491\n"
     ]
    }
   ],
   "source": [
    "nbPersTheoriquementNourriesMonde = float(popMondiale2017) * moyennePonderee\n",
    "\n",
    "print(\"Le nombre de personnes que l'on pourrait théoriquement nourrir à l'échelle mondiale en 2017 est : {:,.0f}\"\\\n",
    "      .format(nbPersTheoriquementNourriesMonde))"
   ]
  },
  {
   "cell_type": "markdown",
   "id": "dc6193cd",
   "metadata": {},
   "source": [
    "***"
   ]
  },
  {
   "cell_type": "markdown",
   "id": "da2532d7",
   "metadata": {},
   "source": [
    "## Nombre de personnes qui pourraient être nourries uniquement avec des aliments d'origine végétale"
   ]
  },
  {
   "cell_type": "markdown",
   "id": "e5eb4567",
   "metadata": {},
   "source": [
    "### Calcul de la disponibilité alimentaire des produits d'originie végétale pour chaque pays"
   ]
  },
  {
   "cell_type": "code",
   "execution_count": 15,
   "id": "4fc37514",
   "metadata": {},
   "outputs": [
    {
     "data": {
      "text/html": [
       "<div>\n",
       "<style scoped>\n",
       "    .dataframe tbody tr th:only-of-type {\n",
       "        vertical-align: middle;\n",
       "    }\n",
       "\n",
       "    .dataframe tbody tr th {\n",
       "        vertical-align: top;\n",
       "    }\n",
       "\n",
       "    .dataframe thead th {\n",
       "        text-align: right;\n",
       "    }\n",
       "</style>\n",
       "<table border=\"1\" class=\"dataframe\">\n",
       "  <thead>\n",
       "    <tr style=\"text-align: right;\">\n",
       "      <th></th>\n",
       "      <th>Disponibilité alimentaire (Kcal/personne/jour)</th>\n",
       "    </tr>\n",
       "    <tr>\n",
       "      <th>Zone</th>\n",
       "      <th></th>\n",
       "    </tr>\n",
       "  </thead>\n",
       "  <tbody>\n",
       "    <tr>\n",
       "      <th>Afghanistan</th>\n",
       "      <td>1871.0</td>\n",
       "    </tr>\n",
       "    <tr>\n",
       "      <th>Afrique du Sud</th>\n",
       "      <td>2533.0</td>\n",
       "    </tr>\n",
       "    <tr>\n",
       "      <th>Albanie</th>\n",
       "      <td>2203.0</td>\n",
       "    </tr>\n",
       "    <tr>\n",
       "      <th>Algérie</th>\n",
       "      <td>2915.0</td>\n",
       "    </tr>\n",
       "    <tr>\n",
       "      <th>Allemagne</th>\n",
       "      <td>2461.0</td>\n",
       "    </tr>\n",
       "    <tr>\n",
       "      <th>...</th>\n",
       "      <td>...</td>\n",
       "    </tr>\n",
       "    <tr>\n",
       "      <th>Émirats arabes unis</th>\n",
       "      <td>2718.0</td>\n",
       "    </tr>\n",
       "    <tr>\n",
       "      <th>Équateur</th>\n",
       "      <td>1732.0</td>\n",
       "    </tr>\n",
       "    <tr>\n",
       "      <th>États-Unis d'Amérique</th>\n",
       "      <td>2698.0</td>\n",
       "    </tr>\n",
       "    <tr>\n",
       "      <th>Éthiopie</th>\n",
       "      <td>2005.0</td>\n",
       "    </tr>\n",
       "    <tr>\n",
       "      <th>Îles Salomon</th>\n",
       "      <td>2187.0</td>\n",
       "    </tr>\n",
       "  </tbody>\n",
       "</table>\n",
       "<p>174 rows × 1 columns</p>\n",
       "</div>"
      ],
      "text/plain": [
       "                       Disponibilité alimentaire (Kcal/personne/jour)\n",
       "Zone                                                                 \n",
       "Afghanistan                                                    1871.0\n",
       "Afrique du Sud                                                 2533.0\n",
       "Albanie                                                        2203.0\n",
       "Algérie                                                        2915.0\n",
       "Allemagne                                                      2461.0\n",
       "...                                                               ...\n",
       "Émirats arabes unis                                            2718.0\n",
       "Équateur                                                       1732.0\n",
       "États-Unis d'Amérique                                          2698.0\n",
       "Éthiopie                                                       2005.0\n",
       "Îles Salomon                                                   2187.0\n",
       "\n",
       "[174 rows x 1 columns]"
      ]
     },
     "metadata": {},
     "output_type": "display_data"
    }
   ],
   "source": [
    "dispoVege = dispoAlimentaire.loc[dispoAlimentaire[\"Origine\"] == \"vegetale\"]\n",
    "\n",
    "dispoVegeParPays = dispoVege.groupby(\"Zone\").sum()\n",
    "\n",
    "dispoVegeParPays = dispoVegeParPays[[\"Disponibilité alimentaire (Kcal/personne/jour)\"]]\n",
    "\n",
    "display(dispoVegeParPays)\n"
   ]
  },
  {
   "cell_type": "markdown",
   "id": "d0d46bc0",
   "metadata": {},
   "source": [
    "### Calcul du nombre de personnes théoriquement nourries par pays, uniquement avec des produits d'origine végétale"
   ]
  },
  {
   "cell_type": "code",
   "execution_count": 16,
   "id": "b3952123",
   "metadata": {
    "scrolled": false
   },
   "outputs": [
    {
     "data": {
      "text/html": [
       "<div>\n",
       "<style scoped>\n",
       "    .dataframe tbody tr th:only-of-type {\n",
       "        vertical-align: middle;\n",
       "    }\n",
       "\n",
       "    .dataframe tbody tr th {\n",
       "        vertical-align: top;\n",
       "    }\n",
       "\n",
       "    .dataframe thead th {\n",
       "        text-align: right;\n",
       "    }\n",
       "</style>\n",
       "<table border=\"1\" class=\"dataframe\">\n",
       "  <thead>\n",
       "    <tr style=\"text-align: right;\">\n",
       "      <th></th>\n",
       "      <th>Zone</th>\n",
       "      <th>Nombre de personne théoriquement nourries Vege</th>\n",
       "    </tr>\n",
       "  </thead>\n",
       "  <tbody>\n",
       "    <tr>\n",
       "      <th>0</th>\n",
       "      <td>Afghanistan</td>\n",
       "      <td>0.7484</td>\n",
       "    </tr>\n",
       "    <tr>\n",
       "      <th>1</th>\n",
       "      <td>Afrique du Sud</td>\n",
       "      <td>1.0132</td>\n",
       "    </tr>\n",
       "    <tr>\n",
       "      <th>2</th>\n",
       "      <td>Albanie</td>\n",
       "      <td>0.8812</td>\n",
       "    </tr>\n",
       "    <tr>\n",
       "      <th>3</th>\n",
       "      <td>Algérie</td>\n",
       "      <td>1.1660</td>\n",
       "    </tr>\n",
       "    <tr>\n",
       "      <th>4</th>\n",
       "      <td>Allemagne</td>\n",
       "      <td>0.9844</td>\n",
       "    </tr>\n",
       "    <tr>\n",
       "      <th>...</th>\n",
       "      <td>...</td>\n",
       "      <td>...</td>\n",
       "    </tr>\n",
       "    <tr>\n",
       "      <th>169</th>\n",
       "      <td>Émirats arabes unis</td>\n",
       "      <td>1.0872</td>\n",
       "    </tr>\n",
       "    <tr>\n",
       "      <th>170</th>\n",
       "      <td>Équateur</td>\n",
       "      <td>0.6928</td>\n",
       "    </tr>\n",
       "    <tr>\n",
       "      <th>171</th>\n",
       "      <td>États-Unis d'Amérique</td>\n",
       "      <td>1.0792</td>\n",
       "    </tr>\n",
       "    <tr>\n",
       "      <th>172</th>\n",
       "      <td>Éthiopie</td>\n",
       "      <td>0.8020</td>\n",
       "    </tr>\n",
       "    <tr>\n",
       "      <th>173</th>\n",
       "      <td>Îles Salomon</td>\n",
       "      <td>0.8748</td>\n",
       "    </tr>\n",
       "  </tbody>\n",
       "</table>\n",
       "<p>174 rows × 2 columns</p>\n",
       "</div>"
      ],
      "text/plain": [
       "                      Zone  Nombre de personne théoriquement nourries Vege\n",
       "0              Afghanistan                                          0.7484\n",
       "1           Afrique du Sud                                          1.0132\n",
       "2                  Albanie                                          0.8812\n",
       "3                  Algérie                                          1.1660\n",
       "4                Allemagne                                          0.9844\n",
       "..                     ...                                             ...\n",
       "169    Émirats arabes unis                                          1.0872\n",
       "170               Équateur                                          0.6928\n",
       "171  États-Unis d'Amérique                                          1.0792\n",
       "172               Éthiopie                                          0.8020\n",
       "173           Îles Salomon                                          0.8748\n",
       "\n",
       "[174 rows x 2 columns]"
      ]
     },
     "metadata": {},
     "output_type": "display_data"
    }
   ],
   "source": [
    "habNourrisParPaysVege = pd.DataFrame({\"Nombre de personne théoriquement nourries Vege\": \\\n",
    "                       dispoVegeParPays['Disponibilité alimentaire (Kcal/personne/jour)']/2500},\n",
    "                     index = dispoVegeParPays.index)\n",
    "\n",
    "habNourrisParPaysVege = habNourrisParPaysVege.reset_index()\n",
    "\n",
    "display(habNourrisParPaysVege)"
   ]
  },
  {
   "cell_type": "markdown",
   "id": "8e07cff3",
   "metadata": {},
   "source": [
    "### Pondération des résultats par la population de chaque pays"
   ]
  },
  {
   "cell_type": "code",
   "execution_count": 17,
   "id": "1f574e16",
   "metadata": {},
   "outputs": [
    {
     "data": {
      "text/html": [
       "<div>\n",
       "<style scoped>\n",
       "    .dataframe tbody tr th:only-of-type {\n",
       "        vertical-align: middle;\n",
       "    }\n",
       "\n",
       "    .dataframe tbody tr th {\n",
       "        vertical-align: top;\n",
       "    }\n",
       "\n",
       "    .dataframe thead th {\n",
       "        text-align: right;\n",
       "    }\n",
       "</style>\n",
       "<table border=\"1\" class=\"dataframe\">\n",
       "  <thead>\n",
       "    <tr style=\"text-align: right;\">\n",
       "      <th></th>\n",
       "      <th>Zone</th>\n",
       "      <th>Nombre de personne théoriquement nourries Vege</th>\n",
       "      <th>Population en millier d'habitants</th>\n",
       "    </tr>\n",
       "  </thead>\n",
       "  <tbody>\n",
       "    <tr>\n",
       "      <th>0</th>\n",
       "      <td>Afghanistan</td>\n",
       "      <td>0.7484</td>\n",
       "      <td>36296.113</td>\n",
       "    </tr>\n",
       "    <tr>\n",
       "      <th>1</th>\n",
       "      <td>Afrique du Sud</td>\n",
       "      <td>1.0132</td>\n",
       "      <td>57009.756</td>\n",
       "    </tr>\n",
       "    <tr>\n",
       "      <th>2</th>\n",
       "      <td>Albanie</td>\n",
       "      <td>0.8812</td>\n",
       "      <td>2884.169</td>\n",
       "    </tr>\n",
       "    <tr>\n",
       "      <th>3</th>\n",
       "      <td>Algérie</td>\n",
       "      <td>1.1660</td>\n",
       "      <td>41389.189</td>\n",
       "    </tr>\n",
       "    <tr>\n",
       "      <th>4</th>\n",
       "      <td>Allemagne</td>\n",
       "      <td>0.9844</td>\n",
       "      <td>82658.409</td>\n",
       "    </tr>\n",
       "    <tr>\n",
       "      <th>...</th>\n",
       "      <td>...</td>\n",
       "      <td>...</td>\n",
       "      <td>...</td>\n",
       "    </tr>\n",
       "    <tr>\n",
       "      <th>167</th>\n",
       "      <td>Émirats arabes unis</td>\n",
       "      <td>1.0872</td>\n",
       "      <td>9487.203</td>\n",
       "    </tr>\n",
       "    <tr>\n",
       "      <th>168</th>\n",
       "      <td>Équateur</td>\n",
       "      <td>0.6928</td>\n",
       "      <td>16785.361</td>\n",
       "    </tr>\n",
       "    <tr>\n",
       "      <th>169</th>\n",
       "      <td>États-Unis d'Amérique</td>\n",
       "      <td>1.0792</td>\n",
       "      <td>325084.756</td>\n",
       "    </tr>\n",
       "    <tr>\n",
       "      <th>170</th>\n",
       "      <td>Éthiopie</td>\n",
       "      <td>0.8020</td>\n",
       "      <td>106399.924</td>\n",
       "    </tr>\n",
       "    <tr>\n",
       "      <th>171</th>\n",
       "      <td>Îles Salomon</td>\n",
       "      <td>0.8748</td>\n",
       "      <td>636.039</td>\n",
       "    </tr>\n",
       "  </tbody>\n",
       "</table>\n",
       "<p>172 rows × 3 columns</p>\n",
       "</div>"
      ],
      "text/plain": [
       "                      Zone  Nombre de personne théoriquement nourries Vege  \\\n",
       "0              Afghanistan                                          0.7484   \n",
       "1           Afrique du Sud                                          1.0132   \n",
       "2                  Albanie                                          0.8812   \n",
       "3                  Algérie                                          1.1660   \n",
       "4                Allemagne                                          0.9844   \n",
       "..                     ...                                             ...   \n",
       "167    Émirats arabes unis                                          1.0872   \n",
       "168               Équateur                                          0.6928   \n",
       "169  États-Unis d'Amérique                                          1.0792   \n",
       "170               Éthiopie                                          0.8020   \n",
       "171           Îles Salomon                                          0.8748   \n",
       "\n",
       "     Population en millier d'habitants  \n",
       "0                            36296.113  \n",
       "1                            57009.756  \n",
       "2                             2884.169  \n",
       "3                            41389.189  \n",
       "4                            82658.409  \n",
       "..                                 ...  \n",
       "167                           9487.203  \n",
       "168                          16785.361  \n",
       "169                         325084.756  \n",
       "170                         106399.924  \n",
       "171                            636.039  \n",
       "\n",
       "[172 rows x 3 columns]"
      ]
     },
     "metadata": {},
     "output_type": "display_data"
    }
   ],
   "source": [
    "# Ajouter la colonne population à notre dataframe. \n",
    "\n",
    "df_ponderationVege = pd.merge(habNourrisParPaysVege, popMondialeParPays2017, on='Zone')\n",
    "\n",
    "# Garder les colonnes utiles \n",
    "\n",
    "df_ponderationVege = df_ponderationVege[['Zone', 'Nombre de personne théoriquement nourries Vege', 'Valeur']]\n",
    "\n",
    "# Renommer la colonne Valeur en 'Population en millier d'habitants'\n",
    "\n",
    "df_ponderationVege = df_ponderationVege.rename(columns={'Valeur' : \"Population en millier d'habitants\"})\n",
    "\n",
    "display(df_ponderationVege)\n"
   ]
  },
  {
   "cell_type": "code",
   "execution_count": 18,
   "id": "ff7da3ea",
   "metadata": {},
   "outputs": [
    {
     "data": {
      "text/html": [
       "<div>\n",
       "<style scoped>\n",
       "    .dataframe tbody tr th:only-of-type {\n",
       "        vertical-align: middle;\n",
       "    }\n",
       "\n",
       "    .dataframe tbody tr th {\n",
       "        vertical-align: top;\n",
       "    }\n",
       "\n",
       "    .dataframe thead th {\n",
       "        text-align: right;\n",
       "    }\n",
       "</style>\n",
       "<table border=\"1\" class=\"dataframe\">\n",
       "  <thead>\n",
       "    <tr style=\"text-align: right;\">\n",
       "      <th></th>\n",
       "      <th>Zone</th>\n",
       "      <th>Nombre de personne théoriquement nourries Vege</th>\n",
       "      <th>Population en millier d'habitants</th>\n",
       "      <th>Coeficient de Pondération</th>\n",
       "    </tr>\n",
       "  </thead>\n",
       "  <tbody>\n",
       "    <tr>\n",
       "      <th>0</th>\n",
       "      <td>Afghanistan</td>\n",
       "      <td>0.7484</td>\n",
       "      <td>36296.113</td>\n",
       "      <td>0.004978</td>\n",
       "    </tr>\n",
       "    <tr>\n",
       "      <th>1</th>\n",
       "      <td>Afrique du Sud</td>\n",
       "      <td>1.0132</td>\n",
       "      <td>57009.756</td>\n",
       "      <td>0.007818</td>\n",
       "    </tr>\n",
       "    <tr>\n",
       "      <th>2</th>\n",
       "      <td>Albanie</td>\n",
       "      <td>0.8812</td>\n",
       "      <td>2884.169</td>\n",
       "      <td>0.000396</td>\n",
       "    </tr>\n",
       "    <tr>\n",
       "      <th>3</th>\n",
       "      <td>Algérie</td>\n",
       "      <td>1.1660</td>\n",
       "      <td>41389.189</td>\n",
       "      <td>0.005676</td>\n",
       "    </tr>\n",
       "    <tr>\n",
       "      <th>4</th>\n",
       "      <td>Allemagne</td>\n",
       "      <td>0.9844</td>\n",
       "      <td>82658.409</td>\n",
       "      <td>0.011336</td>\n",
       "    </tr>\n",
       "    <tr>\n",
       "      <th>...</th>\n",
       "      <td>...</td>\n",
       "      <td>...</td>\n",
       "      <td>...</td>\n",
       "      <td>...</td>\n",
       "    </tr>\n",
       "    <tr>\n",
       "      <th>167</th>\n",
       "      <td>Émirats arabes unis</td>\n",
       "      <td>1.0872</td>\n",
       "      <td>9487.203</td>\n",
       "      <td>0.001301</td>\n",
       "    </tr>\n",
       "    <tr>\n",
       "      <th>168</th>\n",
       "      <td>Équateur</td>\n",
       "      <td>0.6928</td>\n",
       "      <td>16785.361</td>\n",
       "      <td>0.002302</td>\n",
       "    </tr>\n",
       "    <tr>\n",
       "      <th>169</th>\n",
       "      <td>États-Unis d'Amérique</td>\n",
       "      <td>1.0792</td>\n",
       "      <td>325084.756</td>\n",
       "      <td>0.044582</td>\n",
       "    </tr>\n",
       "    <tr>\n",
       "      <th>170</th>\n",
       "      <td>Éthiopie</td>\n",
       "      <td>0.8020</td>\n",
       "      <td>106399.924</td>\n",
       "      <td>0.014592</td>\n",
       "    </tr>\n",
       "    <tr>\n",
       "      <th>171</th>\n",
       "      <td>Îles Salomon</td>\n",
       "      <td>0.8748</td>\n",
       "      <td>636.039</td>\n",
       "      <td>0.000087</td>\n",
       "    </tr>\n",
       "  </tbody>\n",
       "</table>\n",
       "<p>172 rows × 4 columns</p>\n",
       "</div>"
      ],
      "text/plain": [
       "                      Zone  Nombre de personne théoriquement nourries Vege  \\\n",
       "0              Afghanistan                                          0.7484   \n",
       "1           Afrique du Sud                                          1.0132   \n",
       "2                  Albanie                                          0.8812   \n",
       "3                  Algérie                                          1.1660   \n",
       "4                Allemagne                                          0.9844   \n",
       "..                     ...                                             ...   \n",
       "167    Émirats arabes unis                                          1.0872   \n",
       "168               Équateur                                          0.6928   \n",
       "169  États-Unis d'Amérique                                          1.0792   \n",
       "170               Éthiopie                                          0.8020   \n",
       "171           Îles Salomon                                          0.8748   \n",
       "\n",
       "     Population en millier d'habitants  Coeficient de Pondération  \n",
       "0                            36296.113                   0.004978  \n",
       "1                            57009.756                   0.007818  \n",
       "2                             2884.169                   0.000396  \n",
       "3                            41389.189                   0.005676  \n",
       "4                            82658.409                   0.011336  \n",
       "..                                 ...                        ...  \n",
       "167                           9487.203                   0.001301  \n",
       "168                          16785.361                   0.002302  \n",
       "169                         325084.756                   0.044582  \n",
       "170                         106399.924                   0.014592  \n",
       "171                            636.039                   0.000087  \n",
       "\n",
       "[172 rows x 4 columns]"
      ]
     },
     "metadata": {},
     "output_type": "display_data"
    }
   ],
   "source": [
    "# Calculer le coeficient de pondération\n",
    "\n",
    "df_ponderationVege['Coeficient de Pondération'] = df_ponderationVege[\"Population en millier d'habitants\"] / df_ponderationVege[\"Population en millier d'habitants\"].sum()\n",
    "\n",
    "display(df_ponderationVege)"
   ]
  },
  {
   "cell_type": "markdown",
   "id": "d8c462c0",
   "metadata": {},
   "source": [
    "### Nombre de personnes qui pourraient être théoriquement nourries, uniquement à partir de la disponibilité alimentaire d'origine végétale"
   ]
  },
  {
   "cell_type": "code",
   "execution_count": 19,
   "id": "9fc2b469",
   "metadata": {},
   "outputs": [
    {
     "name": "stdout",
     "output_type": "stream",
     "text": [
      "On pourrait nourrir 94.68% de la population mondiale en 2017, uniquement avec des produits d'origine végétale\n"
     ]
    }
   ],
   "source": [
    "# Utiliser la fonction 'average' de numpy pour faire la moyenne pondérée ('weight')\n",
    "\n",
    "values = df_ponderationVege['Nombre de personne théoriquement nourries Vege']\n",
    "weights = df_ponderationVege['Coeficient de Pondération']\n",
    "\n",
    "moyennePondereeVege = np.average(values, weights = weights)\n",
    "\n",
    "print(\"On pourrait nourrir {:,.2f}% de la population mondiale en 2017, uniquement avec des produits\\\n",
    " d'origine végétale\".format(moyennePondereeVege*100))"
   ]
  },
  {
   "cell_type": "code",
   "execution_count": 20,
   "id": "a36a1f8c",
   "metadata": {},
   "outputs": [
    {
     "name": "stdout",
     "output_type": "stream",
     "text": [
      "Le nombre de personnes que l'on pourrait théoriquement nourrir à l'échelle mondiale en 2017, de cette manière est : \n",
      "7,142,814,191\n"
     ]
    }
   ],
   "source": [
    "nbPersNourriesMondeVege = float(popMondiale2017) * moyennePondereeVege\n",
    "\n",
    "print(\"Le nombre de personnes que l'on pourrait théoriquement nourrir à l'échelle mondiale en 2017, de cette manière\\\n",
    " est : \\n{:,.0f}\".format(nbPersNourriesMondeVege))"
   ]
  },
  {
   "cell_type": "markdown",
   "id": "919203d5",
   "metadata": {},
   "source": [
    "***"
   ]
  },
  {
   "cell_type": "markdown",
   "id": "2a17dcd7",
   "metadata": {},
   "source": [
    "## Proportion de la disponibilité intérieure en fonction de l'usage"
   ]
  },
  {
   "cell_type": "markdown",
   "id": "0762388a",
   "metadata": {},
   "source": [
    "Afin de mener à bien ce calcul il est nécessaire d'avoir à l'esprit les relations suivantes :\n",
    "- **Disponibilité intérieure** = (Importations - Exportations) + Production + Évolutions des stocks\n",
    "- **Nourriture** = Disponibilité intérieure - (Semences + Pertes + Aliments pour animaux + Autre utilisation + Traitements)\n",
    "- **Disponibilité alimentaire** = Nourriture / Population"
   ]
  },
  {
   "cell_type": "markdown",
   "id": "4ce66680",
   "metadata": {},
   "source": [
    "### Calcul de la disponibilité intérieure totale"
   ]
  },
  {
   "cell_type": "code",
   "execution_count": 21,
   "id": "607792d8",
   "metadata": {},
   "outputs": [
    {
     "name": "stdout",
     "output_type": "stream",
     "text": [
      "La disponibilité intérieure totale est égale à : 9,848,994 milliers de tonnes\n"
     ]
    }
   ],
   "source": [
    "dispoAlimentaire = pd.read_csv(\"dispo_alimentaire.csv\")\n",
    "\n",
    "dispoInterieure = dispoAlimentaire[\"Disponibilité intérieure\"].sum()\n",
    "\n",
    "print(\"La disponibilité intérieure totale est égale à : {:,.0f} milliers de tonnes\".format(dispoInterieure))"
   ]
  },
  {
   "cell_type": "markdown",
   "id": "5e6dbd01",
   "metadata": {},
   "source": [
    "### Répartition de la disponibilité intérieure"
   ]
  },
  {
   "cell_type": "markdown",
   "id": "af322ec8",
   "metadata": {},
   "source": [
    "#### Proportion de la disponibilité intérieure concrètement utilisée pour l'alimentation humaine"
   ]
  },
  {
   "cell_type": "code",
   "execution_count": 22,
   "id": "ce92586c",
   "metadata": {},
   "outputs": [
    {
     "name": "stdout",
     "output_type": "stream",
     "text": [
      "Total de la disponibilité alimentaire utilisée comme nourriture : 4,876,258 milliers de tonnes\n"
     ]
    }
   ],
   "source": [
    "nourriture = dispoAlimentaire[\"Nourriture\"].sum()\n",
    "print (\"Total de la disponibilité alimentaire utilisée comme nourriture : {:,.0f} milliers de tonnes\".format(nourriture))"
   ]
  },
  {
   "cell_type": "code",
   "execution_count": 23,
   "id": "9f3c33f0",
   "metadata": {},
   "outputs": [
    {
     "data": {
      "image/png": "[encoded data removed]",
      "text/plain": [
       "<Figure size 640x480 with 1 Axes>"
      ]
     },
     "metadata": {},
     "output_type": "display_data"
    }
   ],
   "source": [
    "# Calcul de la proportion d'utilisation de la nourriture\n",
    "proportionNourriture = (nourriture / dispoInterieure) * 100\n",
    "\n",
    "dfTemp = pd.DataFrame({'value': [proportionNourriture, 100 - proportionNourriture]},\n",
    "                  index=['Nourriture', 'Autres usages'])\n",
    "\n",
    "sns.set_theme(style='whitegrid', palette='pastel')\n",
    "fig, ax = plt.subplots()\n",
    "ax.pie(dfTemp['value'], labels=dfTemp.index, autopct='%1.1f%%', startangle = 90)\n",
    "ax.axis('equal')\n",
    "ax.set_title('Proportion de la disponibilité intérieure utilisée comme nourriture')\n",
    "\n",
    "plt.show()"
   ]
  },
  {
   "cell_type": "markdown",
   "id": "0dda06cd",
   "metadata": {},
   "source": [
    "#### Détail des proportions "
   ]
  },
  {
   "cell_type": "code",
   "execution_count": 24,
   "id": "4a2b116c",
   "metadata": {},
   "outputs": [
    {
     "data": {
      "image/png": "[encoded data removed]",
      "text/plain": [
       "<Figure size 640x480 with 1 Axes>"
      ]
     },
     "metadata": {},
     "output_type": "display_data"
    }
   ],
   "source": [
    "# Calcul des proportions\n",
    "\n",
    "categories = [\"Nourriture\", \"Aliments pour animaux\", \"Pertes\"]\n",
    "\n",
    "proportions = []\n",
    "for cat in categories:\n",
    "    proportion = (dispoAlimentaire[cat].sum() / dispoInterieure) * 100\n",
    "    proportions.append(proportion)\n",
    "\n",
    "dfProportions = pd.DataFrame({'value': proportions},\n",
    "                  index=['Nourriture Humaine', 'Nourriture Animaux', 'Pertes'])\n",
    "\n",
    "\n",
    "# Même données mais en version \"bar\"\n",
    "\n",
    "sns.set_theme(style='whitegrid', palette='pastel')\n",
    "fig, ax = plt.subplots()\n",
    "\n",
    "sns.barplot(x=dfProportions.index, y=dfProportions['value'], ax=ax)\n",
    "\n",
    "# Ajouter la valeur sur chaque bar\n",
    "for i, v in enumerate(dfProportions['value']):\n",
    "    ax.text(i, v + 1, '{:,.1f}%'.format(v), ha='center', fontsize=12)\n",
    "\n",
    "\n",
    "ax.set_title(\"Proportion d'usage de la disponibilité intérieure par catégorie\")\n",
    "ax.set_ylabel(\"Proportion (%)\")\n",
    "plt.xticks(rotation=45, ha=\"right\")\n",
    "\n",
    "plt.show()\n"
   ]
  },
  {
   "cell_type": "markdown",
   "id": "56e70fbb",
   "metadata": {},
   "source": [
    "***"
   ]
  },
  {
   "cell_type": "markdown",
   "id": "6b27499b",
   "metadata": {},
   "source": [
    "***"
   ]
  },
  {
   "cell_type": "markdown",
   "id": "99f28ea0",
   "metadata": {},
   "source": [
    "# Partie 2 : Questions de Julien"
   ]
  },
  {
   "cell_type": "markdown",
   "id": "83597c01",
   "metadata": {},
   "source": [
    "## Question 1 : Utilisation des céréales pour l'alimentation animale, par rapport à l'alimentation humaine"
   ]
  },
  {
   "cell_type": "markdown",
   "id": "8a1b2253",
   "metadata": {},
   "source": [
    ">\"Lors de mes recherches, j’ai découvert des chiffres intéressants sur l’utilisation des céréales,\n",
    "notamment la répartition entre l’alimentation humaine (colonne Nourriture) et l’alimentation\n",
    "pour animaux. La liste des céréales peut être trouvée en allant fouiller un peu dans l’onglet\n",
    "Bilans alimentaires, sur le lien juste ci-dessus. Peux-tu approfondir ce point ?\""
   ]
  },
  {
   "cell_type": "markdown",
   "id": "a6cce893",
   "metadata": {},
   "source": [
    "### Proportion en pourcentage de céréales utilisées pour l'alimentation humaines et l'alimentation animale"
   ]
  },
  {
   "cell_type": "code",
   "execution_count": 25,
   "id": "182d9d1f",
   "metadata": {},
   "outputs": [
    {
     "data": {
      "text/html": [
       "<div>\n",
       "<style scoped>\n",
       "    .dataframe tbody tr th:only-of-type {\n",
       "        vertical-align: middle;\n",
       "    }\n",
       "\n",
       "    .dataframe tbody tr th {\n",
       "        vertical-align: top;\n",
       "    }\n",
       "\n",
       "    .dataframe thead th {\n",
       "        text-align: right;\n",
       "    }\n",
       "</style>\n",
       "<table border=\"1\" class=\"dataframe\">\n",
       "  <thead>\n",
       "    <tr style=\"text-align: right;\">\n",
       "      <th></th>\n",
       "      <th>Zone</th>\n",
       "      <th>Produit</th>\n",
       "      <th>Origine</th>\n",
       "      <th>Aliments pour animaux</th>\n",
       "      <th>Autres Utilisations</th>\n",
       "      <th>Disponibilité alimentaire (Kcal/personne/jour)</th>\n",
       "      <th>Disponibilité alimentaire en quantité (kg/personne/an)</th>\n",
       "      <th>Disponibilité de matière grasse en quantité (g/personne/jour)</th>\n",
       "      <th>Disponibilité de protéines en quantité (g/personne/jour)</th>\n",
       "      <th>Disponibilité intérieure</th>\n",
       "      <th>Exportations - Quantité</th>\n",
       "      <th>Importations - Quantité</th>\n",
       "      <th>Nourriture</th>\n",
       "      <th>Pertes</th>\n",
       "      <th>Production</th>\n",
       "      <th>Semences</th>\n",
       "      <th>Traitement</th>\n",
       "      <th>Variation de stock</th>\n",
       "    </tr>\n",
       "  </thead>\n",
       "  <tbody>\n",
       "    <tr>\n",
       "      <th>7</th>\n",
       "      <td>Afghanistan</td>\n",
       "      <td>Blé</td>\n",
       "      <td>vegetale</td>\n",
       "      <td>NaN</td>\n",
       "      <td>NaN</td>\n",
       "      <td>1369.0</td>\n",
       "      <td>160.23</td>\n",
       "      <td>4.69</td>\n",
       "      <td>36.91</td>\n",
       "      <td>5992.0</td>\n",
       "      <td>NaN</td>\n",
       "      <td>1173.0</td>\n",
       "      <td>4895.0</td>\n",
       "      <td>775.0</td>\n",
       "      <td>5169.0</td>\n",
       "      <td>322.0</td>\n",
       "      <td>NaN</td>\n",
       "      <td>-350.0</td>\n",
       "    </tr>\n",
       "    <tr>\n",
       "      <th>12</th>\n",
       "      <td>Afghanistan</td>\n",
       "      <td>Céréales, Autres</td>\n",
       "      <td>vegetale</td>\n",
       "      <td>NaN</td>\n",
       "      <td>NaN</td>\n",
       "      <td>0.0</td>\n",
       "      <td>0.00</td>\n",
       "      <td>0.00</td>\n",
       "      <td>0.00</td>\n",
       "      <td>0.0</td>\n",
       "      <td>NaN</td>\n",
       "      <td>0.0</td>\n",
       "      <td>0.0</td>\n",
       "      <td>NaN</td>\n",
       "      <td>NaN</td>\n",
       "      <td>NaN</td>\n",
       "      <td>NaN</td>\n",
       "      <td>NaN</td>\n",
       "    </tr>\n",
       "    <tr>\n",
       "      <th>32</th>\n",
       "      <td>Afghanistan</td>\n",
       "      <td>Maïs</td>\n",
       "      <td>vegetale</td>\n",
       "      <td>200.0</td>\n",
       "      <td>NaN</td>\n",
       "      <td>21.0</td>\n",
       "      <td>2.50</td>\n",
       "      <td>0.30</td>\n",
       "      <td>0.56</td>\n",
       "      <td>313.0</td>\n",
       "      <td>0.0</td>\n",
       "      <td>1.0</td>\n",
       "      <td>76.0</td>\n",
       "      <td>31.0</td>\n",
       "      <td>312.0</td>\n",
       "      <td>5.0</td>\n",
       "      <td>NaN</td>\n",
       "      <td>NaN</td>\n",
       "    </tr>\n",
       "    <tr>\n",
       "      <th>34</th>\n",
       "      <td>Afghanistan</td>\n",
       "      <td>Millet</td>\n",
       "      <td>vegetale</td>\n",
       "      <td>NaN</td>\n",
       "      <td>NaN</td>\n",
       "      <td>3.0</td>\n",
       "      <td>0.40</td>\n",
       "      <td>0.02</td>\n",
       "      <td>0.08</td>\n",
       "      <td>13.0</td>\n",
       "      <td>NaN</td>\n",
       "      <td>NaN</td>\n",
       "      <td>12.0</td>\n",
       "      <td>1.0</td>\n",
       "      <td>13.0</td>\n",
       "      <td>0.0</td>\n",
       "      <td>NaN</td>\n",
       "      <td>NaN</td>\n",
       "    </tr>\n",
       "    <tr>\n",
       "      <th>40</th>\n",
       "      <td>Afghanistan</td>\n",
       "      <td>Orge</td>\n",
       "      <td>vegetale</td>\n",
       "      <td>360.0</td>\n",
       "      <td>NaN</td>\n",
       "      <td>26.0</td>\n",
       "      <td>2.92</td>\n",
       "      <td>0.24</td>\n",
       "      <td>0.79</td>\n",
       "      <td>524.0</td>\n",
       "      <td>NaN</td>\n",
       "      <td>10.0</td>\n",
       "      <td>89.0</td>\n",
       "      <td>52.0</td>\n",
       "      <td>514.0</td>\n",
       "      <td>22.0</td>\n",
       "      <td>NaN</td>\n",
       "      <td>0.0</td>\n",
       "    </tr>\n",
       "    <tr>\n",
       "      <th>...</th>\n",
       "      <td>...</td>\n",
       "      <td>...</td>\n",
       "      <td>...</td>\n",
       "      <td>...</td>\n",
       "      <td>...</td>\n",
       "      <td>...</td>\n",
       "      <td>...</td>\n",
       "      <td>...</td>\n",
       "      <td>...</td>\n",
       "      <td>...</td>\n",
       "      <td>...</td>\n",
       "      <td>...</td>\n",
       "      <td>...</td>\n",
       "      <td>...</td>\n",
       "      <td>...</td>\n",
       "      <td>...</td>\n",
       "      <td>...</td>\n",
       "      <td>...</td>\n",
       "    </tr>\n",
       "    <tr>\n",
       "      <th>15537</th>\n",
       "      <td>Îles Salomon</td>\n",
       "      <td>Blé</td>\n",
       "      <td>vegetale</td>\n",
       "      <td>NaN</td>\n",
       "      <td>NaN</td>\n",
       "      <td>184.0</td>\n",
       "      <td>25.37</td>\n",
       "      <td>1.00</td>\n",
       "      <td>5.19</td>\n",
       "      <td>14.0</td>\n",
       "      <td>0.0</td>\n",
       "      <td>14.0</td>\n",
       "      <td>14.0</td>\n",
       "      <td>NaN</td>\n",
       "      <td>NaN</td>\n",
       "      <td>NaN</td>\n",
       "      <td>NaN</td>\n",
       "      <td>0.0</td>\n",
       "    </tr>\n",
       "    <tr>\n",
       "      <th>15545</th>\n",
       "      <td>Îles Salomon</td>\n",
       "      <td>Céréales, Autres</td>\n",
       "      <td>vegetale</td>\n",
       "      <td>NaN</td>\n",
       "      <td>NaN</td>\n",
       "      <td>0.0</td>\n",
       "      <td>0.00</td>\n",
       "      <td>0.00</td>\n",
       "      <td>0.00</td>\n",
       "      <td>0.0</td>\n",
       "      <td>NaN</td>\n",
       "      <td>0.0</td>\n",
       "      <td>0.0</td>\n",
       "      <td>0.0</td>\n",
       "      <td>NaN</td>\n",
       "      <td>NaN</td>\n",
       "      <td>NaN</td>\n",
       "      <td>NaN</td>\n",
       "    </tr>\n",
       "    <tr>\n",
       "      <th>15568</th>\n",
       "      <td>Îles Salomon</td>\n",
       "      <td>Maïs</td>\n",
       "      <td>vegetale</td>\n",
       "      <td>NaN</td>\n",
       "      <td>NaN</td>\n",
       "      <td>1.0</td>\n",
       "      <td>0.15</td>\n",
       "      <td>0.01</td>\n",
       "      <td>0.03</td>\n",
       "      <td>0.0</td>\n",
       "      <td>NaN</td>\n",
       "      <td>0.0</td>\n",
       "      <td>0.0</td>\n",
       "      <td>NaN</td>\n",
       "      <td>NaN</td>\n",
       "      <td>NaN</td>\n",
       "      <td>NaN</td>\n",
       "      <td>NaN</td>\n",
       "    </tr>\n",
       "    <tr>\n",
       "      <th>15575</th>\n",
       "      <td>Îles Salomon</td>\n",
       "      <td>Orge</td>\n",
       "      <td>vegetale</td>\n",
       "      <td>NaN</td>\n",
       "      <td>NaN</td>\n",
       "      <td>0.0</td>\n",
       "      <td>0.07</td>\n",
       "      <td>NaN</td>\n",
       "      <td>0.01</td>\n",
       "      <td>1.0</td>\n",
       "      <td>NaN</td>\n",
       "      <td>1.0</td>\n",
       "      <td>0.0</td>\n",
       "      <td>NaN</td>\n",
       "      <td>NaN</td>\n",
       "      <td>NaN</td>\n",
       "      <td>1.0</td>\n",
       "      <td>NaN</td>\n",
       "    </tr>\n",
       "    <tr>\n",
       "      <th>15593</th>\n",
       "      <td>Îles Salomon</td>\n",
       "      <td>Sorgho</td>\n",
       "      <td>vegetale</td>\n",
       "      <td>0.0</td>\n",
       "      <td>NaN</td>\n",
       "      <td>NaN</td>\n",
       "      <td>NaN</td>\n",
       "      <td>NaN</td>\n",
       "      <td>NaN</td>\n",
       "      <td>0.0</td>\n",
       "      <td>NaN</td>\n",
       "      <td>0.0</td>\n",
       "      <td>NaN</td>\n",
       "      <td>NaN</td>\n",
       "      <td>NaN</td>\n",
       "      <td>NaN</td>\n",
       "      <td>NaN</td>\n",
       "      <td>NaN</td>\n",
       "    </tr>\n",
       "  </tbody>\n",
       "</table>\n",
       "<p>1323 rows × 18 columns</p>\n",
       "</div>"
      ],
      "text/plain": [
       "               Zone           Produit   Origine  Aliments pour animaux  \\\n",
       "7       Afghanistan               Blé  vegetale                    NaN   \n",
       "12      Afghanistan  Céréales, Autres  vegetale                    NaN   \n",
       "32      Afghanistan              Maïs  vegetale                  200.0   \n",
       "34      Afghanistan            Millet  vegetale                    NaN   \n",
       "40      Afghanistan              Orge  vegetale                  360.0   \n",
       "...             ...               ...       ...                    ...   \n",
       "15537  Îles Salomon               Blé  vegetale                    NaN   \n",
       "15545  Îles Salomon  Céréales, Autres  vegetale                    NaN   \n",
       "15568  Îles Salomon              Maïs  vegetale                    NaN   \n",
       "15575  Îles Salomon              Orge  vegetale                    NaN   \n",
       "15593  Îles Salomon            Sorgho  vegetale                    0.0   \n",
       "\n",
       "       Autres Utilisations  Disponibilité alimentaire (Kcal/personne/jour)  \\\n",
       "7                      NaN                                          1369.0   \n",
       "12                     NaN                                             0.0   \n",
       "32                     NaN                                            21.0   \n",
       "34                     NaN                                             3.0   \n",
       "40                     NaN                                            26.0   \n",
       "...                    ...                                             ...   \n",
       "15537                  NaN                                           184.0   \n",
       "15545                  NaN                                             0.0   \n",
       "15568                  NaN                                             1.0   \n",
       "15575                  NaN                                             0.0   \n",
       "15593                  NaN                                             NaN   \n",
       "\n",
       "       Disponibilité alimentaire en quantité (kg/personne/an)  \\\n",
       "7                                                 160.23        \n",
       "12                                                  0.00        \n",
       "32                                                  2.50        \n",
       "34                                                  0.40        \n",
       "40                                                  2.92        \n",
       "...                                                  ...        \n",
       "15537                                              25.37        \n",
       "15545                                               0.00        \n",
       "15568                                               0.15        \n",
       "15575                                               0.07        \n",
       "15593                                                NaN        \n",
       "\n",
       "       Disponibilité de matière grasse en quantité (g/personne/jour)  \\\n",
       "7                                                   4.69               \n",
       "12                                                  0.00               \n",
       "32                                                  0.30               \n",
       "34                                                  0.02               \n",
       "40                                                  0.24               \n",
       "...                                                  ...               \n",
       "15537                                               1.00               \n",
       "15545                                               0.00               \n",
       "15568                                               0.01               \n",
       "15575                                                NaN               \n",
       "15593                                                NaN               \n",
       "\n",
       "       Disponibilité de protéines en quantité (g/personne/jour)  \\\n",
       "7                                                  36.91          \n",
       "12                                                  0.00          \n",
       "32                                                  0.56          \n",
       "34                                                  0.08          \n",
       "40                                                  0.79          \n",
       "...                                                  ...          \n",
       "15537                                               5.19          \n",
       "15545                                               0.00          \n",
       "15568                                               0.03          \n",
       "15575                                               0.01          \n",
       "15593                                                NaN          \n",
       "\n",
       "       Disponibilité intérieure  Exportations - Quantité  \\\n",
       "7                        5992.0                      NaN   \n",
       "12                          0.0                      NaN   \n",
       "32                        313.0                      0.0   \n",
       "34                         13.0                      NaN   \n",
       "40                        524.0                      NaN   \n",
       "...                         ...                      ...   \n",
       "15537                      14.0                      0.0   \n",
       "15545                       0.0                      NaN   \n",
       "15568                       0.0                      NaN   \n",
       "15575                       1.0                      NaN   \n",
       "15593                       0.0                      NaN   \n",
       "\n",
       "       Importations - Quantité  Nourriture  Pertes  Production  Semences  \\\n",
       "7                       1173.0      4895.0   775.0      5169.0     322.0   \n",
       "12                         0.0         0.0     NaN         NaN       NaN   \n",
       "32                         1.0        76.0    31.0       312.0       5.0   \n",
       "34                         NaN        12.0     1.0        13.0       0.0   \n",
       "40                        10.0        89.0    52.0       514.0      22.0   \n",
       "...                        ...         ...     ...         ...       ...   \n",
       "15537                     14.0        14.0     NaN         NaN       NaN   \n",
       "15545                      0.0         0.0     0.0         NaN       NaN   \n",
       "15568                      0.0         0.0     NaN         NaN       NaN   \n",
       "15575                      1.0         0.0     NaN         NaN       NaN   \n",
       "15593                      0.0         NaN     NaN         NaN       NaN   \n",
       "\n",
       "       Traitement  Variation de stock  \n",
       "7             NaN              -350.0  \n",
       "12            NaN                 NaN  \n",
       "32            NaN                 NaN  \n",
       "34            NaN                 NaN  \n",
       "40            NaN                 0.0  \n",
       "...           ...                 ...  \n",
       "15537         NaN                 0.0  \n",
       "15545         NaN                 NaN  \n",
       "15568         NaN                 NaN  \n",
       "15575         1.0                 NaN  \n",
       "15593         NaN                 NaN  \n",
       "\n",
       "[1323 rows x 18 columns]"
      ]
     },
     "metadata": {},
     "output_type": "display_data"
    }
   ],
   "source": [
    "cereales2 = ['Blé','Riz','Orge','Maïs','Seigle','Avoine','Millet','Sorgho','Céréales, Autres']\n",
    "\n",
    "# Filtrer les lignes contenant une céréale dans la colonne \"Produit\"\n",
    "dfCereales2 = dispoAlimentaire.loc[dispoAlimentaire['Produit'].isin(cereales2),:]\n",
    "\n",
    "display(dfCereales2)"
   ]
  },
  {
   "cell_type": "code",
   "execution_count": 26,
   "id": "ec2cf8ef",
   "metadata": {},
   "outputs": [
    {
     "name": "stdout",
     "output_type": "stream",
     "text": [
      "Proportion d'alimentation animale : 43.49%\n",
      "Proportion d'alimentation humaine : 33.74%\n"
     ]
    }
   ],
   "source": [
    "proportionAnimaux = dfCereales2[\"Aliments pour animaux\"].sum()/dfCereales2[\"Disponibilité intérieure\"].sum()*100\n",
    "print(\"Proportion d'alimentation animale : {:.2f}%\".format(proportionAnimaux))\n",
    "\n",
    "proportionHumain = dfCereales2[\"Nourriture\"].sum()/dfCereales2[\"Disponibilité intérieure\"].sum()*100\n",
    "print(\"Proportion d'alimentation humaine : {:.2f}%\".format(proportionHumain))"
   ]
  },
  {
   "cell_type": "markdown",
   "id": "ede9cc66",
   "metadata": {},
   "source": [
    "### Répartition selon les céréales"
   ]
  },
  {
   "cell_type": "code",
   "execution_count": 27,
   "id": "0de5c69a",
   "metadata": {
    "scrolled": true
   },
   "outputs": [
    {
     "data": {
      "text/html": [
       "<div>\n",
       "<style scoped>\n",
       "    .dataframe tbody tr th:only-of-type {\n",
       "        vertical-align: middle;\n",
       "    }\n",
       "\n",
       "    .dataframe tbody tr th {\n",
       "        vertical-align: top;\n",
       "    }\n",
       "\n",
       "    .dataframe thead th {\n",
       "        text-align: right;\n",
       "    }\n",
       "</style>\n",
       "<table border=\"1\" class=\"dataframe\">\n",
       "  <thead>\n",
       "    <tr style=\"text-align: right;\">\n",
       "      <th></th>\n",
       "      <th>Produit</th>\n",
       "      <th>Aliments pour animaux</th>\n",
       "      <th>Nourriture</th>\n",
       "      <th>Proportion d'usage pour les animaux par rapport à la nourriture (%)</th>\n",
       "    </tr>\n",
       "  </thead>\n",
       "  <tbody>\n",
       "    <tr>\n",
       "      <th>0</th>\n",
       "      <td>Orge</td>\n",
       "      <td>92658.0</td>\n",
       "      <td>6794.0</td>\n",
       "      <td>93.168564</td>\n",
       "    </tr>\n",
       "    <tr>\n",
       "      <th>1</th>\n",
       "      <td>Maïs</td>\n",
       "      <td>546116.0</td>\n",
       "      <td>125184.0</td>\n",
       "      <td>81.352004</td>\n",
       "    </tr>\n",
       "    <tr>\n",
       "      <th>2</th>\n",
       "      <td>Avoine</td>\n",
       "      <td>16251.0</td>\n",
       "      <td>3903.0</td>\n",
       "      <td>80.634117</td>\n",
       "    </tr>\n",
       "    <tr>\n",
       "      <th>3</th>\n",
       "      <td>Céréales, Autres</td>\n",
       "      <td>19035.0</td>\n",
       "      <td>5324.0</td>\n",
       "      <td>78.143602</td>\n",
       "    </tr>\n",
       "    <tr>\n",
       "      <th>4</th>\n",
       "      <td>Seigle</td>\n",
       "      <td>8099.0</td>\n",
       "      <td>5502.0</td>\n",
       "      <td>59.547092</td>\n",
       "    </tr>\n",
       "    <tr>\n",
       "      <th>5</th>\n",
       "      <td>Sorgho</td>\n",
       "      <td>24808.0</td>\n",
       "      <td>24153.0</td>\n",
       "      <td>50.668900</td>\n",
       "    </tr>\n",
       "    <tr>\n",
       "      <th>6</th>\n",
       "      <td>Blé</td>\n",
       "      <td>129668.0</td>\n",
       "      <td>457824.0</td>\n",
       "      <td>22.071449</td>\n",
       "    </tr>\n",
       "    <tr>\n",
       "      <th>7</th>\n",
       "      <td>Millet</td>\n",
       "      <td>3306.0</td>\n",
       "      <td>23040.0</td>\n",
       "      <td>12.548394</td>\n",
       "    </tr>\n",
       "  </tbody>\n",
       "</table>\n",
       "</div>"
      ],
      "text/plain": [
       "            Produit  Aliments pour animaux  Nourriture  \\\n",
       "0              Orge                92658.0      6794.0   \n",
       "1              Maïs               546116.0    125184.0   \n",
       "2            Avoine                16251.0      3903.0   \n",
       "3  Céréales, Autres                19035.0      5324.0   \n",
       "4            Seigle                 8099.0      5502.0   \n",
       "5            Sorgho                24808.0     24153.0   \n",
       "6               Blé               129668.0    457824.0   \n",
       "7            Millet                 3306.0     23040.0   \n",
       "\n",
       "   Proportion d'usage pour les animaux par rapport à la nourriture (%)  \n",
       "0                                          93.168564                    \n",
       "1                                          81.352004                    \n",
       "2                                          80.634117                    \n",
       "3                                          78.143602                    \n",
       "4                                          59.547092                    \n",
       "5                                          50.668900                    \n",
       "6                                          22.071449                    \n",
       "7                                          12.548394                    "
      ]
     },
     "metadata": {},
     "output_type": "display_data"
    }
   ],
   "source": [
    "# Calcul de la quantité, pour chaque céréale, utilisée pour l'alimentation animale et pour l'alimentation humaine.\n",
    "\n",
    "dfCereales2 = dfCereales2[[\"Produit\", \"Aliments pour animaux\", \"Nourriture\"]]\n",
    "\n",
    "dfCereales2 = dfCereales2.groupby(dfCereales2[\"Produit\"]).sum()\n",
    "\n",
    "# Ajout d'une colonne \"Proportion (%)\" représentant la part affectée à l'alimentation animale.\n",
    "\n",
    "dfCereales2[\"Proportion d'usage pour les animaux par rapport à la nourriture (%)\"] = \\\n",
    "dfCereales2[\"Aliments pour animaux\"] / (dfCereales2[\"Aliments pour animaux\"] + dfCereales2[\"Nourriture\"]) * 100\n",
    "\n",
    "dfCereales2 = dfCereales2.sort_values(\"Proportion d'usage pour les animaux par rapport à la nourriture (%)\", ascending=False)\n",
    "\n",
    "dfCereales2 = dfCereales2.reset_index().head(9)\n",
    "\n",
    "display(dfCereales2)"
   ]
  },
  {
   "cell_type": "markdown",
   "id": "71f1f876",
   "metadata": {},
   "source": [
    "On constate que **l'Orge, le Maïs et l'Avoine sont principalement utilisés pour l'alimentation animale**,\n",
    "tandis que **le Blé, le Millet et le Riz sont principalement utilisés pour l'alimentation humaine**."
   ]
  },
  {
   "cell_type": "code",
   "execution_count": 28,
   "id": "628d05b6",
   "metadata": {},
   "outputs": [
    {
     "data": {
      "image/png": "[encoded data removed]",
      "text/plain": [
       "<Figure size 640x480 with 1 Axes>"
      ]
     },
     "metadata": {},
     "output_type": "display_data"
    }
   ],
   "source": [
    "# Creation d'un graphique en barres \n",
    "ax = dfCereales2.plot(x='Produit', y=['Aliments pour animaux', 'Nourriture'], kind='bar')\n",
    "\n",
    "# Titre et noms des axes\n",
    "sns.set_theme(style='whitegrid', palette='pastel')\n",
    "ax.set_title('Quantité utilisée pour les animaux et pour la nourriture humaine')\n",
    "ax.set_xlabel('Céréale')\n",
    "ax.set_ylabel('Quantité (millier de tonnes)')\n",
    "plt.xticks(rotation=45, ha=\"right\")\n",
    "\n",
    "plt.show()"
   ]
  },
  {
   "cell_type": "code",
   "execution_count": 29,
   "id": "b6ebe7a0",
   "metadata": {},
   "outputs": [
    {
     "data": {
      "image/png": "[encoded data removed]",
      "text/plain": [
       "<Figure size 1500x500 with 3 Axes>"
      ]
     },
     "metadata": {},
     "output_type": "display_data"
    }
   ],
   "source": [
    "cereals = [\"Orge\", \"Maïs\", \"Avoine\"]\n",
    "df_cereals = dfCereales2[dfCereales2[\"Produit\"].isin(cereals)]\n",
    "\n",
    "# Extraire les valeurs pour chaque céréale\n",
    "cereals_data = df_cereals.groupby(\"Produit\")[[\"Aliments pour animaux\", \"Nourriture\"]].sum()\n",
    "\n",
    "# Créer un graphique à 3 colonnes\n",
    "fig, axs = plt.subplots(1, 3, figsize=(15, 5))\n",
    "\n",
    "# Créer un graphique pour chacune des 3 céréales les plus utilisées pour l'alimentation animale\n",
    "for i, cereal in enumerate(cereals):\n",
    "    axs[i].pie(cereals_data.loc[cereal], labels=[\"Aliments pour animaux\", \"Nourriture\"], autopct=\"%1.1f%%\")\n",
    "    axs[i].set_title(cereal)\n",
    "\n",
    "# Display the plot\n",
    "plt.show()"
   ]
  },
  {
   "cell_type": "markdown",
   "id": "0fda793b",
   "metadata": {},
   "source": [
    "## Question 2 : Export du manioc par la Thaïlande"
   ]
  },
  {
   "cell_type": "markdown",
   "id": "bf5e5f39",
   "metadata": {},
   "source": [
    ">\"Je me souviens d’un exemple étonnant d’utilisation du manioc par la Thaïlande aux\n",
    "égards de la proportion de personnes en sous-nutrition. De mémoire ça concernait\n",
    "l’exportation par rapport à la production… Peux-tu jeter un coup d’oeil et nous faire un retour\n",
    "?\""
   ]
  },
  {
   "cell_type": "markdown",
   "id": "2b601a10",
   "metadata": {},
   "source": [
    "La Thaïlande est un pays où la **sous-nutrition** touche **plus de 6 millions de personnes**, soit **8.96% de la population**."
   ]
  },
  {
   "cell_type": "code",
   "execution_count": 30,
   "id": "bc92e488",
   "metadata": {
    "scrolled": true
   },
   "outputs": [
    {
     "data": {
      "text/html": [
       "<div>\n",
       "<style scoped>\n",
       "    .dataframe tbody tr th:only-of-type {\n",
       "        vertical-align: middle;\n",
       "    }\n",
       "\n",
       "    .dataframe tbody tr th {\n",
       "        vertical-align: top;\n",
       "    }\n",
       "\n",
       "    .dataframe thead th {\n",
       "        text-align: right;\n",
       "    }\n",
       "</style>\n",
       "<table border=\"1\" class=\"dataframe\">\n",
       "  <thead>\n",
       "    <tr style=\"text-align: right;\">\n",
       "      <th></th>\n",
       "      <th>Zone</th>\n",
       "      <th>Nombre personnes en sous-nutrition</th>\n",
       "      <th>Population</th>\n",
       "      <th>Proportion (%)</th>\n",
       "    </tr>\n",
       "  </thead>\n",
       "  <tbody>\n",
       "    <tr>\n",
       "      <th>185</th>\n",
       "      <td>Thaïlande</td>\n",
       "      <td>6200000</td>\n",
       "      <td>69209810</td>\n",
       "      <td>8.958268</td>\n",
       "    </tr>\n",
       "  </tbody>\n",
       "</table>\n",
       "</div>"
      ],
      "text/plain": [
       "          Zone  Nombre personnes en sous-nutrition  Population  Proportion (%)\n",
       "185  Thaïlande                             6200000    69209810        8.958268"
      ]
     },
     "metadata": {},
     "output_type": "display_data"
    }
   ],
   "source": [
    "sousNutritionThailande = dfPopEtSousNutri[dfPopEtSousNutri[\"Zone\"] == \"Thaïlande\"]\n",
    "sousNutritionThailande = sousNutritionThailande.copy()\n",
    "sousNutritionThailande['Proportion (%)'] = sousNutritionThailande['Nombre personnes en sous-nutrition'] / sousNutritionThailande['Population'] * 100\n",
    "display(sousNutritionThailande)"
   ]
  },
  {
   "cell_type": "markdown",
   "id": "387712e9",
   "metadata": {},
   "source": [
    "### Proportion de manioc exporté par la Thaïlande par rapport à sa production"
   ]
  },
  {
   "cell_type": "markdown",
   "id": "e0cce2f9",
   "metadata": {},
   "source": [
    "Pourtant **la Thaïlande exporte la majeure partie de sa production de Manioc**."
   ]
  },
  {
   "cell_type": "code",
   "execution_count": 31,
   "id": "e664236b",
   "metadata": {},
   "outputs": [
    {
     "data": {
      "text/html": [
       "<div>\n",
       "<style scoped>\n",
       "    .dataframe tbody tr th:only-of-type {\n",
       "        vertical-align: middle;\n",
       "    }\n",
       "\n",
       "    .dataframe tbody tr th {\n",
       "        vertical-align: top;\n",
       "    }\n",
       "\n",
       "    .dataframe thead th {\n",
       "        text-align: right;\n",
       "    }\n",
       "</style>\n",
       "<table border=\"1\" class=\"dataframe\">\n",
       "  <thead>\n",
       "    <tr style=\"text-align: right;\">\n",
       "      <th></th>\n",
       "      <th>Zone</th>\n",
       "      <th>Produit</th>\n",
       "      <th>Disponibilité intérieure</th>\n",
       "      <th>Exportations - Quantité</th>\n",
       "      <th>Importations - Quantité</th>\n",
       "      <th>Nourriture</th>\n",
       "      <th>Pertes</th>\n",
       "      <th>Production</th>\n",
       "    </tr>\n",
       "  </thead>\n",
       "  <tbody>\n",
       "    <tr>\n",
       "      <th>13809</th>\n",
       "      <td>Thaïlande</td>\n",
       "      <td>Manioc</td>\n",
       "      <td>6264.0</td>\n",
       "      <td>25214.0</td>\n",
       "      <td>1250.0</td>\n",
       "      <td>871.0</td>\n",
       "      <td>1511.0</td>\n",
       "      <td>30228.0</td>\n",
       "    </tr>\n",
       "  </tbody>\n",
       "</table>\n",
       "</div>"
      ],
      "text/plain": [
       "            Zone Produit  Disponibilité intérieure  Exportations - Quantité  \\\n",
       "13809  Thaïlande  Manioc                    6264.0                  25214.0   \n",
       "\n",
       "       Importations - Quantité  Nourriture  Pertes  Production  \n",
       "13809                   1250.0       871.0  1511.0     30228.0  "
      ]
     },
     "metadata": {},
     "output_type": "display_data"
    }
   ],
   "source": [
    "maniocGate = dispoAlimentaire[(dispoAlimentaire[\"Zone\"]==\"Thaïlande\") & (dispoAlimentaire[\"Produit\"].str.contains(\"Manioc\"))]\n",
    "\n",
    "maniocGate = maniocGate[[\"Zone\", \"Produit\", \"Disponibilité intérieure\", \"Exportations - Quantité\", \"Importations - Quantité\", \"Nourriture\", \"Pertes\", \"Production\"]]\n",
    "\n",
    "display(maniocGate)"
   ]
  },
  {
   "cell_type": "code",
   "execution_count": 32,
   "id": "a8120d05",
   "metadata": {},
   "outputs": [
    {
     "name": "stdout",
     "output_type": "stream",
     "text": [
      "Proportion de manioc exporté : 83.41%\n",
      "Proportion de manioc utilisée pour l'alimentation : 2.88%\n"
     ]
    }
   ],
   "source": [
    "export = maniocGate[\"Exportations - Quantité\"].sum()\n",
    "production = maniocGate[\"Production\"].sum()\n",
    "nourriture = maniocGate[\"Nourriture\"].sum()\n",
    "\n",
    "proportionExport = (export / production) * 100\n",
    "proportionNourriture  = (nourriture / production) * 100\n",
    "\n",
    "print(\"Proportion de manioc exporté : {:,.2f}%\".format(proportionExport))\n",
    "print(\"Proportion de manioc utilisée pour l'alimentation : {:,.2f}%\".format(proportionNourriture))"
   ]
  },
  {
   "cell_type": "code",
   "execution_count": 33,
   "id": "93a6caf6",
   "metadata": {},
   "outputs": [
    {
     "data": {
      "image/png": "[encoded data removed]",
      "text/plain": [
       "<Figure size 640x480 with 1 Axes>"
      ]
     },
     "metadata": {},
     "output_type": "display_data"
    }
   ],
   "source": [
    "# Création d'un graphique pour visualiser les résultats\n",
    "\n",
    "dfManioc = pd.DataFrame({'value': [proportionExport, 100 - proportionExport - proportionNourriture, proportionNourriture]},\n",
    "                  index=['Export', 'Autre', 'Nourriture'])\n",
    "\n",
    "sns.set_theme(style='whitegrid', palette='pastel')\n",
    "fig, ax = plt.subplots()\n",
    "ax.pie(dfManioc['value'], labels=dfManioc.index, autopct='%1.2f%%')\n",
    "ax.axis('equal')\n",
    "ax.set_title('Proportion du Manioc exporté et utilisé comme nourriture, sur la production totale en Thaïlande ')\n",
    "\n",
    "plt.show()"
   ]
  },
  {
   "cell_type": "markdown",
   "id": "87b8560f",
   "metadata": {},
   "source": [
    "***"
   ]
  },
  {
   "cell_type": "markdown",
   "id": "9f7c755f",
   "metadata": {},
   "source": [
    "***"
   ]
  },
  {
   "cell_type": "markdown",
   "id": "d2b6d164",
   "metadata": {},
   "source": [
    "# Partie 3 : Recherches spécifiques pour Mélanie"
   ]
  },
  {
   "cell_type": "markdown",
   "id": "b9becaa5",
   "metadata": {},
   "source": [
    "## Les 10 Pays où la proportion personnes sous-alimentées est la plus élevée en 2017"
   ]
  },
  {
   "cell_type": "code",
   "execution_count": 34,
   "id": "5f91b5e2",
   "metadata": {},
   "outputs": [
    {
     "data": {
      "text/html": [
       "<div>\n",
       "<style scoped>\n",
       "    .dataframe tbody tr th:only-of-type {\n",
       "        vertical-align: middle;\n",
       "    }\n",
       "\n",
       "    .dataframe tbody tr th {\n",
       "        vertical-align: top;\n",
       "    }\n",
       "\n",
       "    .dataframe thead th {\n",
       "        text-align: right;\n",
       "    }\n",
       "</style>\n",
       "<table border=\"1\" class=\"dataframe\">\n",
       "  <thead>\n",
       "    <tr style=\"text-align: right;\">\n",
       "      <th></th>\n",
       "      <th>Zone</th>\n",
       "      <th>Proportion</th>\n",
       "    </tr>\n",
       "  </thead>\n",
       "  <tbody>\n",
       "    <tr>\n",
       "      <th>78</th>\n",
       "      <td>Haïti</td>\n",
       "      <td>0.482592</td>\n",
       "    </tr>\n",
       "    <tr>\n",
       "      <th>157</th>\n",
       "      <td>République populaire démocratique de Corée</td>\n",
       "      <td>0.471887</td>\n",
       "    </tr>\n",
       "    <tr>\n",
       "      <th>108</th>\n",
       "      <td>Madagascar</td>\n",
       "      <td>0.410629</td>\n",
       "    </tr>\n",
       "    <tr>\n",
       "      <th>103</th>\n",
       "      <td>Libéria</td>\n",
       "      <td>0.382797</td>\n",
       "    </tr>\n",
       "    <tr>\n",
       "      <th>100</th>\n",
       "      <td>Lesotho</td>\n",
       "      <td>0.382494</td>\n",
       "    </tr>\n",
       "    <tr>\n",
       "      <th>183</th>\n",
       "      <td>Tchad</td>\n",
       "      <td>0.379576</td>\n",
       "    </tr>\n",
       "    <tr>\n",
       "      <th>161</th>\n",
       "      <td>Rwanda</td>\n",
       "      <td>0.350556</td>\n",
       "    </tr>\n",
       "    <tr>\n",
       "      <th>121</th>\n",
       "      <td>Mozambique</td>\n",
       "      <td>0.328109</td>\n",
       "    </tr>\n",
       "    <tr>\n",
       "      <th>186</th>\n",
       "      <td>Timor-Leste</td>\n",
       "      <td>0.321735</td>\n",
       "    </tr>\n",
       "    <tr>\n",
       "      <th>0</th>\n",
       "      <td>Afghanistan</td>\n",
       "      <td>0.289287</td>\n",
       "    </tr>\n",
       "  </tbody>\n",
       "</table>\n",
       "</div>"
      ],
      "text/plain": [
       "                                           Zone  Proportion\n",
       "78                                        Haïti    0.482592\n",
       "157  République populaire démocratique de Corée    0.471887\n",
       "108                                  Madagascar    0.410629\n",
       "103                                     Libéria    0.382797\n",
       "100                                     Lesotho    0.382494\n",
       "183                                       Tchad    0.379576\n",
       "161                                      Rwanda    0.350556\n",
       "121                                  Mozambique    0.328109\n",
       "186                                 Timor-Leste    0.321735\n",
       "0                                   Afghanistan    0.289287"
      ]
     },
     "metadata": {},
     "output_type": "display_data"
    }
   ],
   "source": [
    "dfPopEtSousNutri['Proportion'] = dfPopEtSousNutri['Nombre personnes en sous-nutrition'] / dfPopEtSousNutri['Population']\n",
    "\n",
    "dfPopEtSousNutri_sorted = dfPopEtSousNutri.sort_values('Proportion', ascending=False)\n",
    "\n",
    "dfPopEtSousNutri_sorted = dfPopEtSousNutri_sorted[[\"Zone\", \"Proportion\"]].head(10)\n",
    "\n",
    "display(dfPopEtSousNutri_sorted)"
   ]
  },
  {
   "cell_type": "markdown",
   "id": "62e496eb",
   "metadata": {},
   "source": [
    "## Les 10 Pays ayant le plus bénéficié de l'aide depuis 2013"
   ]
  },
  {
   "cell_type": "code",
   "execution_count": 35,
   "id": "d3963f2a",
   "metadata": {},
   "outputs": [
    {
     "data": {
      "text/html": [
       "<div>\n",
       "<style scoped>\n",
       "    .dataframe tbody tr th:only-of-type {\n",
       "        vertical-align: middle;\n",
       "    }\n",
       "\n",
       "    .dataframe tbody tr th {\n",
       "        vertical-align: top;\n",
       "    }\n",
       "\n",
       "    .dataframe thead th {\n",
       "        text-align: right;\n",
       "    }\n",
       "</style>\n",
       "<table border=\"1\" class=\"dataframe\">\n",
       "  <thead>\n",
       "    <tr style=\"text-align: right;\">\n",
       "      <th></th>\n",
       "      <th>Quantité (tonnes)</th>\n",
       "    </tr>\n",
       "    <tr>\n",
       "      <th>Pays bénéficiaire</th>\n",
       "      <th></th>\n",
       "    </tr>\n",
       "  </thead>\n",
       "  <tbody>\n",
       "    <tr>\n",
       "      <th>République arabe syrienne</th>\n",
       "      <td>1858943</td>\n",
       "    </tr>\n",
       "    <tr>\n",
       "      <th>Éthiopie</th>\n",
       "      <td>1381294</td>\n",
       "    </tr>\n",
       "    <tr>\n",
       "      <th>Yémen</th>\n",
       "      <td>1206484</td>\n",
       "    </tr>\n",
       "    <tr>\n",
       "      <th>Soudan du Sud</th>\n",
       "      <td>695248</td>\n",
       "    </tr>\n",
       "    <tr>\n",
       "      <th>Soudan</th>\n",
       "      <td>669784</td>\n",
       "    </tr>\n",
       "    <tr>\n",
       "      <th>Kenya</th>\n",
       "      <td>552836</td>\n",
       "    </tr>\n",
       "    <tr>\n",
       "      <th>Bangladesh</th>\n",
       "      <td>348188</td>\n",
       "    </tr>\n",
       "    <tr>\n",
       "      <th>Somalie</th>\n",
       "      <td>292678</td>\n",
       "    </tr>\n",
       "    <tr>\n",
       "      <th>République démocratique du Congo</th>\n",
       "      <td>288502</td>\n",
       "    </tr>\n",
       "    <tr>\n",
       "      <th>Niger</th>\n",
       "      <td>276344</td>\n",
       "    </tr>\n",
       "  </tbody>\n",
       "</table>\n",
       "</div>"
      ],
      "text/plain": [
       "                                  Quantité (tonnes)\n",
       "Pays bénéficiaire                                  \n",
       "République arabe syrienne                   1858943\n",
       "Éthiopie                                    1381294\n",
       "Yémen                                       1206484\n",
       "Soudan du Sud                                695248\n",
       "Soudan                                       669784\n",
       "Kenya                                        552836\n",
       "Bangladesh                                   348188\n",
       "Somalie                                      292678\n",
       "République démocratique du Congo             288502\n",
       "Niger                                        276344"
      ]
     },
     "metadata": {},
     "output_type": "display_data"
    }
   ],
   "source": [
    "aideAlimentaire = pd.read_csv(\"aide_alimentaire.csv\")\n",
    "\n",
    "aideAlimentaireParPays = aideAlimentaire.groupby(\"Pays bénéficiaire\").sum()\n",
    "\n",
    "aideAlimentaireParPays_sorted = aideAlimentaireParPays.sort_values('Valeur', ascending=False)\n",
    "\n",
    "aideAlimentaireParPays_sorted = aideAlimentaireParPays_sorted[[\"Valeur\"]].head(10)\n",
    "\n",
    "aideAlimentaireParPays_sorted = aideAlimentaireParPays_sorted.rename(columns={\"Valeur\" : \"Quantité (tonnes)\"})\n",
    "\n",
    "display(aideAlimentaireParPays_sorted)"
   ]
  },
  {
   "cell_type": "markdown",
   "id": "f5a1e7b6",
   "metadata": {},
   "source": [
    "## Disponibilité par habitant"
   ]
  },
  {
   "cell_type": "markdown",
   "id": "0a778c48",
   "metadata": {},
   "source": [
    "### Pays ayant le plus de disponibilité par habitant"
   ]
  },
  {
   "cell_type": "code",
   "execution_count": 36,
   "id": "10e744a3",
   "metadata": {},
   "outputs": [
    {
     "data": {
      "text/html": [
       "<div>\n",
       "<style scoped>\n",
       "    .dataframe tbody tr th:only-of-type {\n",
       "        vertical-align: middle;\n",
       "    }\n",
       "\n",
       "    .dataframe tbody tr th {\n",
       "        vertical-align: top;\n",
       "    }\n",
       "\n",
       "    .dataframe thead th {\n",
       "        text-align: right;\n",
       "    }\n",
       "</style>\n",
       "<table border=\"1\" class=\"dataframe\">\n",
       "  <thead>\n",
       "    <tr style=\"text-align: right;\">\n",
       "      <th></th>\n",
       "      <th>Zone</th>\n",
       "      <th>Disponibilité alimentaire (Kcal/personne/jour)</th>\n",
       "    </tr>\n",
       "  </thead>\n",
       "  <tbody>\n",
       "    <tr>\n",
       "      <th>0</th>\n",
       "      <td>Autriche</td>\n",
       "      <td>3770.0</td>\n",
       "    </tr>\n",
       "    <tr>\n",
       "      <th>1</th>\n",
       "      <td>Belgique</td>\n",
       "      <td>3737.0</td>\n",
       "    </tr>\n",
       "    <tr>\n",
       "      <th>2</th>\n",
       "      <td>Turquie</td>\n",
       "      <td>3708.0</td>\n",
       "    </tr>\n",
       "    <tr>\n",
       "      <th>3</th>\n",
       "      <td>États-Unis d'Amérique</td>\n",
       "      <td>3682.0</td>\n",
       "    </tr>\n",
       "    <tr>\n",
       "      <th>4</th>\n",
       "      <td>Israël</td>\n",
       "      <td>3610.0</td>\n",
       "    </tr>\n",
       "    <tr>\n",
       "      <th>5</th>\n",
       "      <td>Irlande</td>\n",
       "      <td>3602.0</td>\n",
       "    </tr>\n",
       "    <tr>\n",
       "      <th>6</th>\n",
       "      <td>Italie</td>\n",
       "      <td>3578.0</td>\n",
       "    </tr>\n",
       "    <tr>\n",
       "      <th>7</th>\n",
       "      <td>Luxembourg</td>\n",
       "      <td>3540.0</td>\n",
       "    </tr>\n",
       "    <tr>\n",
       "      <th>8</th>\n",
       "      <td>Égypte</td>\n",
       "      <td>3518.0</td>\n",
       "    </tr>\n",
       "    <tr>\n",
       "      <th>9</th>\n",
       "      <td>Allemagne</td>\n",
       "      <td>3503.0</td>\n",
       "    </tr>\n",
       "  </tbody>\n",
       "</table>\n",
       "</div>"
      ],
      "text/plain": [
       "                    Zone  Disponibilité alimentaire (Kcal/personne/jour)\n",
       "0               Autriche                                          3770.0\n",
       "1               Belgique                                          3737.0\n",
       "2                Turquie                                          3708.0\n",
       "3  États-Unis d'Amérique                                          3682.0\n",
       "4                 Israël                                          3610.0\n",
       "5                Irlande                                          3602.0\n",
       "6                 Italie                                          3578.0\n",
       "7             Luxembourg                                          3540.0\n",
       "8                 Égypte                                          3518.0\n",
       "9              Allemagne                                          3503.0"
      ]
     },
     "metadata": {},
     "output_type": "display_data"
    }
   ],
   "source": [
    "topDispoParPays = dispoParPays.sort_values(\"Disponibilité alimentaire (Kcal/personne/jour)\", ascending=False).head(10).reset_index()\n",
    "display(topDispoParPays)"
   ]
  },
  {
   "cell_type": "markdown",
   "id": "8a048a91",
   "metadata": {},
   "source": [
    "### Pays ayant le moins de disponibilité par habitant"
   ]
  },
  {
   "cell_type": "code",
   "execution_count": 37,
   "id": "f1409f5b",
   "metadata": {},
   "outputs": [
    {
     "data": {
      "text/html": [
       "<div>\n",
       "<style scoped>\n",
       "    .dataframe tbody tr th:only-of-type {\n",
       "        vertical-align: middle;\n",
       "    }\n",
       "\n",
       "    .dataframe tbody tr th {\n",
       "        vertical-align: top;\n",
       "    }\n",
       "\n",
       "    .dataframe thead th {\n",
       "        text-align: right;\n",
       "    }\n",
       "</style>\n",
       "<table border=\"1\" class=\"dataframe\">\n",
       "  <thead>\n",
       "    <tr style=\"text-align: right;\">\n",
       "      <th></th>\n",
       "      <th>Zone</th>\n",
       "      <th>Disponibilité alimentaire (Kcal/personne/jour)</th>\n",
       "    </tr>\n",
       "  </thead>\n",
       "  <tbody>\n",
       "    <tr>\n",
       "      <th>0</th>\n",
       "      <td>République centrafricaine</td>\n",
       "      <td>1879.0</td>\n",
       "    </tr>\n",
       "    <tr>\n",
       "      <th>1</th>\n",
       "      <td>Zambie</td>\n",
       "      <td>1924.0</td>\n",
       "    </tr>\n",
       "    <tr>\n",
       "      <th>2</th>\n",
       "      <td>Madagascar</td>\n",
       "      <td>2056.0</td>\n",
       "    </tr>\n",
       "    <tr>\n",
       "      <th>3</th>\n",
       "      <td>Afghanistan</td>\n",
       "      <td>2087.0</td>\n",
       "    </tr>\n",
       "    <tr>\n",
       "      <th>4</th>\n",
       "      <td>Haïti</td>\n",
       "      <td>2089.0</td>\n",
       "    </tr>\n",
       "    <tr>\n",
       "      <th>5</th>\n",
       "      <td>République populaire démocratique de Corée</td>\n",
       "      <td>2093.0</td>\n",
       "    </tr>\n",
       "    <tr>\n",
       "      <th>6</th>\n",
       "      <td>Tchad</td>\n",
       "      <td>2109.0</td>\n",
       "    </tr>\n",
       "    <tr>\n",
       "      <th>7</th>\n",
       "      <td>Zimbabwe</td>\n",
       "      <td>2113.0</td>\n",
       "    </tr>\n",
       "    <tr>\n",
       "      <th>8</th>\n",
       "      <td>Ouganda</td>\n",
       "      <td>2126.0</td>\n",
       "    </tr>\n",
       "    <tr>\n",
       "      <th>9</th>\n",
       "      <td>Timor-Leste</td>\n",
       "      <td>2129.0</td>\n",
       "    </tr>\n",
       "  </tbody>\n",
       "</table>\n",
       "</div>"
      ],
      "text/plain": [
       "                                         Zone  \\\n",
       "0                   République centrafricaine   \n",
       "1                                      Zambie   \n",
       "2                                  Madagascar   \n",
       "3                                 Afghanistan   \n",
       "4                                       Haïti   \n",
       "5  République populaire démocratique de Corée   \n",
       "6                                       Tchad   \n",
       "7                                    Zimbabwe   \n",
       "8                                     Ouganda   \n",
       "9                                 Timor-Leste   \n",
       "\n",
       "   Disponibilité alimentaire (Kcal/personne/jour)  \n",
       "0                                          1879.0  \n",
       "1                                          1924.0  \n",
       "2                                          2056.0  \n",
       "3                                          2087.0  \n",
       "4                                          2089.0  \n",
       "5                                          2093.0  \n",
       "6                                          2109.0  \n",
       "7                                          2113.0  \n",
       "8                                          2126.0  \n",
       "9                                          2129.0  "
      ]
     },
     "metadata": {},
     "output_type": "display_data"
    }
   ],
   "source": [
    "lowDispoParPays = dispoParPays.sort_values(\"Disponibilité alimentaire (Kcal/personne/jour)\", ascending=True).head(10).reset_index()\n",
    "display(lowDispoParPays)"
   ]
  },
  {
   "cell_type": "markdown",
   "id": "aa07da7b",
   "metadata": {},
   "source": [
    "***"
   ]
  },
  {
   "cell_type": "markdown",
   "id": "28cb38c4",
   "metadata": {},
   "source": [
    "***"
   ]
  },
  {
   "cell_type": "markdown",
   "id": "a01ea7d0",
   "metadata": {},
   "source": [
    "# Partie 4 : Apport supplémentaire"
   ]
  },
  {
   "cell_type": "markdown",
   "id": "6ec2e1c7",
   "metadata": {},
   "source": [
    "## Évolution de la proportion de personnes en état de sous-nutrition dans les 5 pays les plus touchés"
   ]
  },
  {
   "cell_type": "markdown",
   "id": "4229701a",
   "metadata": {},
   "source": [
    "### Création d'un DataFrame avec la proportion de personnes en sous-nutrition pour chaque année"
   ]
  },
  {
   "cell_type": "code",
   "execution_count": 38,
   "id": "2f421c31",
   "metadata": {},
   "outputs": [],
   "source": [
    "# Créer un DF de sous-nutrition avec des valeurs numériques exploitables\n",
    "\n",
    "sousNutrition = pd.read_csv(\"sous_nutrition.csv\")\n",
    "\n",
    "sousNutrition.loc[sousNutrition[\"Valeur\"] == \"<0.1\", \"Valeur\"] = 0\n",
    "\n",
    "sousNutrition[\"Valeur\"] = sousNutrition[\"Valeur\"].fillna(0)"
   ]
  },
  {
   "cell_type": "code",
   "execution_count": 39,
   "id": "5dc5966e",
   "metadata": {
    "scrolled": true
   },
   "outputs": [
    {
     "data": {
      "text/html": [
       "<div>\n",
       "<style scoped>\n",
       "    .dataframe tbody tr th:only-of-type {\n",
       "        vertical-align: middle;\n",
       "    }\n",
       "\n",
       "    .dataframe tbody tr th {\n",
       "        vertical-align: top;\n",
       "    }\n",
       "\n",
       "    .dataframe thead th {\n",
       "        text-align: right;\n",
       "    }\n",
       "</style>\n",
       "<table border=\"1\" class=\"dataframe\">\n",
       "  <thead>\n",
       "    <tr style=\"text-align: right;\">\n",
       "      <th></th>\n",
       "      <th>Zone</th>\n",
       "      <th>Année</th>\n",
       "      <th>Nombre personnes en sous-nutrition</th>\n",
       "      <th>Population</th>\n",
       "      <th>Proportion (%)</th>\n",
       "    </tr>\n",
       "  </thead>\n",
       "  <tbody>\n",
       "    <tr>\n",
       "      <th>0</th>\n",
       "      <td>Afghanistan</td>\n",
       "      <td>2013</td>\n",
       "      <td>8600000</td>\n",
       "      <td>32269589</td>\n",
       "      <td>26.650479</td>\n",
       "    </tr>\n",
       "    <tr>\n",
       "      <th>1</th>\n",
       "      <td>Afghanistan</td>\n",
       "      <td>2014</td>\n",
       "      <td>8800000</td>\n",
       "      <td>33370794</td>\n",
       "      <td>26.370364</td>\n",
       "    </tr>\n",
       "    <tr>\n",
       "      <th>2</th>\n",
       "      <td>Afghanistan</td>\n",
       "      <td>2015</td>\n",
       "      <td>8900000</td>\n",
       "      <td>34413603</td>\n",
       "      <td>25.861866</td>\n",
       "    </tr>\n",
       "    <tr>\n",
       "      <th>3</th>\n",
       "      <td>Afghanistan</td>\n",
       "      <td>2016</td>\n",
       "      <td>9700000</td>\n",
       "      <td>35383032</td>\n",
       "      <td>27.414270</td>\n",
       "    </tr>\n",
       "    <tr>\n",
       "      <th>4</th>\n",
       "      <td>Afghanistan</td>\n",
       "      <td>2017</td>\n",
       "      <td>10500000</td>\n",
       "      <td>36296113</td>\n",
       "      <td>28.928718</td>\n",
       "    </tr>\n",
       "    <tr>\n",
       "      <th>...</th>\n",
       "      <td>...</td>\n",
       "      <td>...</td>\n",
       "      <td>...</td>\n",
       "      <td>...</td>\n",
       "      <td>...</td>\n",
       "    </tr>\n",
       "    <tr>\n",
       "      <th>1213</th>\n",
       "      <td>Zimbabwe</td>\n",
       "      <td>2014</td>\n",
       "      <td>0</td>\n",
       "      <td>13586707</td>\n",
       "      <td>0.000000</td>\n",
       "    </tr>\n",
       "    <tr>\n",
       "      <th>1214</th>\n",
       "      <td>Zimbabwe</td>\n",
       "      <td>2015</td>\n",
       "      <td>0</td>\n",
       "      <td>13814629</td>\n",
       "      <td>0.000000</td>\n",
       "    </tr>\n",
       "    <tr>\n",
       "      <th>1215</th>\n",
       "      <td>Zimbabwe</td>\n",
       "      <td>2016</td>\n",
       "      <td>0</td>\n",
       "      <td>14030331</td>\n",
       "      <td>0.000000</td>\n",
       "    </tr>\n",
       "    <tr>\n",
       "      <th>1216</th>\n",
       "      <td>Zimbabwe</td>\n",
       "      <td>2017</td>\n",
       "      <td>0</td>\n",
       "      <td>14236595</td>\n",
       "      <td>0.000000</td>\n",
       "    </tr>\n",
       "    <tr>\n",
       "      <th>1217</th>\n",
       "      <td>Zimbabwe</td>\n",
       "      <td>2018</td>\n",
       "      <td>0</td>\n",
       "      <td>14438802</td>\n",
       "      <td>0.000000</td>\n",
       "    </tr>\n",
       "  </tbody>\n",
       "</table>\n",
       "<p>1218 rows × 5 columns</p>\n",
       "</div>"
      ],
      "text/plain": [
       "             Zone  Année  Nombre personnes en sous-nutrition  Population  \\\n",
       "0     Afghanistan   2013                             8600000    32269589   \n",
       "1     Afghanistan   2014                             8800000    33370794   \n",
       "2     Afghanistan   2015                             8900000    34413603   \n",
       "3     Afghanistan   2016                             9700000    35383032   \n",
       "4     Afghanistan   2017                            10500000    36296113   \n",
       "...           ...    ...                                 ...         ...   \n",
       "1213     Zimbabwe   2014                                   0    13586707   \n",
       "1214     Zimbabwe   2015                                   0    13814629   \n",
       "1215     Zimbabwe   2016                                   0    14030331   \n",
       "1216     Zimbabwe   2017                                   0    14236595   \n",
       "1217     Zimbabwe   2018                                   0    14438802   \n",
       "\n",
       "      Proportion (%)  \n",
       "0          26.650479  \n",
       "1          26.370364  \n",
       "2          25.861866  \n",
       "3          27.414270  \n",
       "4          28.928718  \n",
       "...              ...  \n",
       "1213        0.000000  \n",
       "1214        0.000000  \n",
       "1215        0.000000  \n",
       "1216        0.000000  \n",
       "1217        0.000000  \n",
       "\n",
       "[1218 rows x 5 columns]"
      ]
     },
     "metadata": {},
     "output_type": "display_data"
    }
   ],
   "source": [
    "# Créer un mapping pour faire correspondre les années et les périodes entre population.csv et sous_nutrition.csv\n",
    "year_mapping = {\n",
    "    '2012-2014': 2013,\n",
    "    '2013-2015': 2014,\n",
    "    '2014-2016': 2015,\n",
    "    '2015-2017': 2016,\n",
    "    '2016-2018': 2017,\n",
    "    '2017-2019': 2018\n",
    "}\n",
    "\n",
    "# Appliquer le mapping sur sousNutritionTemp sans affecter sousNutrition\n",
    "sousNutritionTemp = sousNutrition.copy()\n",
    "sousNutritionTemp['Année'] = sousNutritionTemp['Année'].map(year_mapping)\n",
    "\n",
    "# Merge les Dataframe\n",
    "evolutionSousNutrition = pd.merge(sousNutritionTemp, popMondiale, on=['Zone', 'Année'])\n",
    "\n",
    "# Renommer les colonnes, unifier les unités et traiter comme des integer\n",
    "\n",
    "evolutionSousNutrition = evolutionSousNutrition.rename(columns={\"Valeur_x\": \"Nombre personnes en sous-nutrition\", \\\n",
    "                                                    \"Valeur_y\": \"Population\"})\n",
    "\n",
    "evolutionSousNutrition[\"Nombre personnes en sous-nutrition\"] = \\\n",
    "pd.to_numeric(evolutionSousNutrition[\"Nombre personnes en sous-nutrition\"]).fillna(0)\n",
    "\n",
    "evolutionSousNutrition[\"Nombre personnes en sous-nutrition\"] *= 1000000\n",
    "evolutionSousNutrition[\"Nombre personnes en sous-nutrition\"] = evolutionSousNutrition[\"Nombre personnes en sous-nutrition\"].astype(int)\n",
    "evolutionSousNutrition[\"Population\"] *= 1000\n",
    "evolutionSousNutrition[\"Population\"] = evolutionSousNutrition[\"Population\"].astype(int)\n",
    "\n",
    "evolutionSousNutrition[\"Proportion (%)\"] = evolutionSousNutrition[\"Nombre personnes en sous-nutrition\"]/evolutionSousNutrition[\"Population\"]*100\n",
    "\n",
    "display(evolutionSousNutrition)"
   ]
  },
  {
   "cell_type": "markdown",
   "id": "29e217cd",
   "metadata": {},
   "source": [
    "### Sélectionner uniquement les 5 pays les plus en difficulté en 2018"
   ]
  },
  {
   "cell_type": "code",
   "execution_count": 40,
   "id": "d7498395",
   "metadata": {},
   "outputs": [
    {
     "name": "stdout",
     "output_type": "stream",
     "text": [
      "Les 5 pays les plus en difficulté sont :  ['Haïti', 'République populaire démocratique de Corée', 'Madagascar', 'Tchad', 'Libéria']\n"
     ]
    }
   ],
   "source": [
    "evolutionSousNutrition_2018 = evolutionSousNutrition.loc[evolutionSousNutrition['Année'] == 2018]\n",
    "\n",
    "evolutionSousNutrition_sorted = evolutionSousNutrition_2018.sort_values(\"Proportion (%)\",ascending=False)\n",
    "\n",
    "top_5 = list(evolutionSousNutrition_sorted[\"Zone\"].head(5))\n",
    "\n",
    "print(\"Les 5 pays les plus en difficulté sont : \", top_5)"
   ]
  },
  {
   "cell_type": "code",
   "execution_count": 41,
   "id": "0aceac68",
   "metadata": {},
   "outputs": [],
   "source": [
    "# Création d'un dataframe avec toutes les valeurs pour chaque année et pour chaque pays en difficulté\n",
    "evolutionTop5 = evolutionSousNutrition[evolutionSousNutrition[\"Zone\"].isin(top_5)]"
   ]
  },
  {
   "cell_type": "markdown",
   "id": "821df716",
   "metadata": {},
   "source": [
    "### Visualisation de l'évolution de la proportion de chaque pays en sous-nutrition"
   ]
  },
  {
   "cell_type": "code",
   "execution_count": 42,
   "id": "0182e4d2",
   "metadata": {},
   "outputs": [
    {
     "data": {
      "image/png": "[encoded data removed]",
      "text/plain": [
       "<Figure size 800x600 with 1 Axes>"
      ]
     },
     "metadata": {},
     "output_type": "display_data"
    }
   ],
   "source": [
    "# Create a figure and axis object\n",
    "fig, ax = plt.subplots(figsize=(8,6))\n",
    "\n",
    "# Iterate over the top 5 countries and plot their data\n",
    "for pays in top_5:\n",
    "    # filter data for the current country\n",
    "    pays_data = evolutionTop5[evolutionTop5['Zone'] == pays]\n",
    "    \n",
    "    # plot the data for the current country\n",
    "    ax.plot(pays_data['Année'], pays_data['Proportion (%)'], label=pays)\n",
    "\n",
    "# Add labels and legend\n",
    "ax.set_xlabel('Année')\n",
    "ax.set_ylabel('Proportion en sous-nutrition (%)')\n",
    "ax.set_title('Evolution de la sous-nutrition dans les pays les plus touchés')\n",
    "legend = ax.legend(bbox_to_anchor=(1.02, 1), loc='upper left')\n",
    "\n",
    "# Show the plot\n",
    "plt.show()"
   ]
  },
  {
   "cell_type": "markdown",
   "id": "5d651204",
   "metadata": {},
   "source": [
    "Ce graphique en courbe pose plusieurs courbes questions qui peuvent êtes discutées par l'organisation et dépendent des priorité que l'on souhaite donner, en effet on peut constater que :\n",
    "\n",
    "- **La situation en Haïti reste la plus critique en termes de proportion de la population touchée par la sous-nutrition**\n",
    "- **La situation en République populaire démocratique de Corée et à Madagascar se sont aggravées ces dernières années**"
   ]
  },
  {
   "cell_type": "markdown",
   "id": "dfb26cea",
   "metadata": {},
   "source": [
    "### Visualisation de l'évolution du nombre de personne en sous-nutrition"
   ]
  },
  {
   "cell_type": "code",
   "execution_count": 43,
   "id": "1ae47d67",
   "metadata": {},
   "outputs": [
    {
     "data": {
      "image/png": "[encoded data removed]",
      "text/plain": [
       "<Figure size 800x600 with 1 Axes>"
      ]
     },
     "metadata": {},
     "output_type": "display_data"
    }
   ],
   "source": [
    "# Create a figure and axis object\n",
    "fig, ax = plt.subplots(figsize=(8,6))\n",
    "\n",
    "# Iterate over the top 5 countries and plot their data\n",
    "for pays in top_5:\n",
    "    # filter data for the current country\n",
    "    pays_data = evolutionTop5[evolutionTop5['Zone'] == pays]\n",
    "    \n",
    "    # plot the data for the current country\n",
    "    ax.plot(pays_data['Année'], pays_data['Nombre personnes en sous-nutrition'], label=pays)\n",
    "\n",
    "# Add labels and legend\n",
    "ax.set_xlabel('Année')\n",
    "ax.set_ylabel('Nombre personnes sous nourries (dizaine en million)')\n",
    "ax.set_title('Evolution de la sous-nutrition dans les pays les plus touchés')\n",
    "legend = ax.legend(bbox_to_anchor=(1.02, 1), loc='upper left')\n",
    "\n",
    "# Show the plot\n",
    "plt.show()"
   ]
  },
  {
   "cell_type": "markdown",
   "id": "b2115386",
   "metadata": {},
   "source": [
    "Ce second graphique met en évidence qu'**en termes de nombre de personnes touchées par la sous-nutrition** les deux pays à la fois **les plus touchés** mais aussi où **la situation s'est le plus aggravées** sont :\n",
    "\n",
    "- La **République populaire démocratique de Corée**\n",
    "- **Madagascar**"
   ]
  }
 ],
 "metadata": {
  "kernelspec": {
   "display_name": "Python 3 (ipykernel)",
   "language": "python",
   "name": "python3"
  },
  "language_info": {
   "codemirror_mode": {
    "name": "ipython",
    "version": 3
   },
   "file_extension": ".py",
   "mimetype": "text/x-python",
   "name": "python",
   "nbconvert_exporter": "python",
   "pygments_lexer": "ipython3",
   "version": "3.9.13"
  },
  "toc": {
   "base_numbering": 1,
   "nav_menu": {},
   "number_sections": true,
   "sideBar": true,
   "skip_h1_title": false,
   "title_cell": "Table of Contents",
   "title_sidebar": "Contents",
   "toc_cell": false,
   "toc_position": {
    "height": "calc(100% - 180px)",
    "left": "10px",
    "top": "150px",
    "width": "306.449px"
   },
   "toc_section_display": true,
   "toc_window_display": true
  },
  "vscode": {
   "interpreter": {
    "hash": "98590ff4fe04c8543246b2a01debd3de3c5ca9b666f43f1fa87d5110c692004c"
   }
  }
 },
 "nbformat": 4,
 "nbformat_minor": 5
}
